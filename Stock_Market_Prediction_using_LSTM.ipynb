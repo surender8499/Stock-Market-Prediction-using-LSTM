{
  "nbformat": 4,
  "nbformat_minor": 0,
  "metadata": {
    "colab": {
      "name": "Stock Market Prediction using LSTM ",
      "provenance": []
    },
    "kernelspec": {
      "name": "python3",
      "display_name": "Python 3"
    }
  },
  "cells": [
    {
      "cell_type": "code",
      "metadata": {
        "id": "21UcHzeGS04l",
        "colab_type": "code",
        "colab": {}
      },
      "source": [
        "import pandas as pd"
      ],
      "execution_count": null,
      "outputs": []
    },
    {
      "cell_type": "code",
      "metadata": {
        "id": "5vJ2wP3cS_nD",
        "colab_type": "code",
        "colab": {
          "resources": {
            "http://localhost:8080/nbextensions/google.colab/files.js": {
              "data": "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",
              "ok": true,
              "headers": [
                [
                  "content-type",
                  "application/javascript"
                ]
              ],
              "status": 200,
              "status_text": ""
            }
          },
          "base_uri": "https://localhost:8080/",
          "height": 72
        },
        "outputId": "ea32b4a2-4eae-4444-d71d-9fe2d484a6e1"
      },
      "source": [
        "from google.colab import files\n",
        "data_to_load = files.upload()"
      ],
      "execution_count": 8,
      "outputs": [
        {
          "output_type": "display_data",
          "data": {
            "text/html": [
              "\n",
              "     <input type=\"file\" id=\"files-d68ab24a-ba23-4ac1-acbd-baeb96204bba\" name=\"files[]\" multiple disabled\n",
              "        style=\"border:none\" />\n",
              "     <output id=\"result-d68ab24a-ba23-4ac1-acbd-baeb96204bba\">\n",
              "      Upload widget is only available when the cell has been executed in the\n",
              "      current browser session. Please rerun this cell to enable.\n",
              "      </output>\n",
              "      <script src=\"/nbextensions/google.colab/files.js\"></script> "
            ],
            "text/plain": [
              "<IPython.core.display.HTML object>"
            ]
          },
          "metadata": {
            "tags": []
          }
        },
        {
          "output_type": "stream",
          "text": [
            "Saving AAPL.csv to AAPL.csv\n"
          ],
          "name": "stdout"
        }
      ]
    },
    {
      "cell_type": "code",
      "metadata": {
        "id": "727bsyHqVTw5",
        "colab_type": "code",
        "colab": {}
      },
      "source": [
        "import io\n",
        "df = pd.read_csv(io.BytesIO(data_to_load['AAPL.csv']))"
      ],
      "execution_count": 9,
      "outputs": []
    },
    {
      "cell_type": "code",
      "metadata": {
        "id": "k3_4ohUSVdTl",
        "colab_type": "code",
        "colab": {
          "base_uri": "https://localhost:8080/",
          "height": 306
        },
        "outputId": "aadf9e55-9a6d-44a8-9cd1-d71e98c442f8"
      },
      "source": [
        "df.head()"
      ],
      "execution_count": 10,
      "outputs": [
        {
          "output_type": "execute_result",
          "data": {
            "text/html": [
              "<div>\n",
              "<style scoped>\n",
              "    .dataframe tbody tr th:only-of-type {\n",
              "        vertical-align: middle;\n",
              "    }\n",
              "\n",
              "    .dataframe tbody tr th {\n",
              "        vertical-align: top;\n",
              "    }\n",
              "\n",
              "    .dataframe thead th {\n",
              "        text-align: right;\n",
              "    }\n",
              "</style>\n",
              "<table border=\"1\" class=\"dataframe\">\n",
              "  <thead>\n",
              "    <tr style=\"text-align: right;\">\n",
              "      <th></th>\n",
              "      <th>Unnamed: 0</th>\n",
              "      <th>symbol</th>\n",
              "      <th>date</th>\n",
              "      <th>close</th>\n",
              "      <th>high</th>\n",
              "      <th>low</th>\n",
              "      <th>open</th>\n",
              "      <th>volume</th>\n",
              "      <th>adjClose</th>\n",
              "      <th>adjHigh</th>\n",
              "      <th>adjLow</th>\n",
              "      <th>adjOpen</th>\n",
              "      <th>adjVolume</th>\n",
              "      <th>divCash</th>\n",
              "      <th>splitFactor</th>\n",
              "    </tr>\n",
              "  </thead>\n",
              "  <tbody>\n",
              "    <tr>\n",
              "      <th>0</th>\n",
              "      <td>0</td>\n",
              "      <td>AAPL</td>\n",
              "      <td>2015-05-27 00:00:00+00:00</td>\n",
              "      <td>132.045</td>\n",
              "      <td>132.260</td>\n",
              "      <td>130.05</td>\n",
              "      <td>130.34</td>\n",
              "      <td>45833246</td>\n",
              "      <td>121.682558</td>\n",
              "      <td>121.880685</td>\n",
              "      <td>119.844118</td>\n",
              "      <td>120.111360</td>\n",
              "      <td>45833246</td>\n",
              "      <td>0.0</td>\n",
              "      <td>1</td>\n",
              "    </tr>\n",
              "    <tr>\n",
              "      <th>1</th>\n",
              "      <td>1</td>\n",
              "      <td>AAPL</td>\n",
              "      <td>2015-05-28 00:00:00+00:00</td>\n",
              "      <td>131.780</td>\n",
              "      <td>131.950</td>\n",
              "      <td>131.10</td>\n",
              "      <td>131.86</td>\n",
              "      <td>30733309</td>\n",
              "      <td>121.438354</td>\n",
              "      <td>121.595013</td>\n",
              "      <td>120.811718</td>\n",
              "      <td>121.512076</td>\n",
              "      <td>30733309</td>\n",
              "      <td>0.0</td>\n",
              "      <td>1</td>\n",
              "    </tr>\n",
              "    <tr>\n",
              "      <th>2</th>\n",
              "      <td>2</td>\n",
              "      <td>AAPL</td>\n",
              "      <td>2015-05-29 00:00:00+00:00</td>\n",
              "      <td>130.280</td>\n",
              "      <td>131.450</td>\n",
              "      <td>129.90</td>\n",
              "      <td>131.23</td>\n",
              "      <td>50884452</td>\n",
              "      <td>120.056069</td>\n",
              "      <td>121.134251</td>\n",
              "      <td>119.705890</td>\n",
              "      <td>120.931516</td>\n",
              "      <td>50884452</td>\n",
              "      <td>0.0</td>\n",
              "      <td>1</td>\n",
              "    </tr>\n",
              "    <tr>\n",
              "      <th>3</th>\n",
              "      <td>3</td>\n",
              "      <td>AAPL</td>\n",
              "      <td>2015-06-01 00:00:00+00:00</td>\n",
              "      <td>130.535</td>\n",
              "      <td>131.390</td>\n",
              "      <td>130.05</td>\n",
              "      <td>131.20</td>\n",
              "      <td>32112797</td>\n",
              "      <td>120.291057</td>\n",
              "      <td>121.078960</td>\n",
              "      <td>119.844118</td>\n",
              "      <td>120.903870</td>\n",
              "      <td>32112797</td>\n",
              "      <td>0.0</td>\n",
              "      <td>1</td>\n",
              "    </tr>\n",
              "    <tr>\n",
              "      <th>4</th>\n",
              "      <td>4</td>\n",
              "      <td>AAPL</td>\n",
              "      <td>2015-06-02 00:00:00+00:00</td>\n",
              "      <td>129.960</td>\n",
              "      <td>130.655</td>\n",
              "      <td>129.32</td>\n",
              "      <td>129.86</td>\n",
              "      <td>33667627</td>\n",
              "      <td>119.761181</td>\n",
              "      <td>120.401640</td>\n",
              "      <td>119.171406</td>\n",
              "      <td>119.669029</td>\n",
              "      <td>33667627</td>\n",
              "      <td>0.0</td>\n",
              "      <td>1</td>\n",
              "    </tr>\n",
              "  </tbody>\n",
              "</table>\n",
              "</div>"
            ],
            "text/plain": [
              "   Unnamed: 0 symbol  ... divCash  splitFactor\n",
              "0           0   AAPL  ...     0.0            1\n",
              "1           1   AAPL  ...     0.0            1\n",
              "2           2   AAPL  ...     0.0            1\n",
              "3           3   AAPL  ...     0.0            1\n",
              "4           4   AAPL  ...     0.0            1\n",
              "\n",
              "[5 rows x 15 columns]"
            ]
          },
          "metadata": {
            "tags": []
          },
          "execution_count": 10
        }
      ]
    },
    {
      "cell_type": "code",
      "metadata": {
        "id": "oghvu-UQVl2s",
        "colab_type": "code",
        "colab": {
          "base_uri": "https://localhost:8080/",
          "height": 204
        },
        "outputId": "79926745-6323-43c1-aa06-68647219cdbd"
      },
      "source": [
        "df.tail()"
      ],
      "execution_count": 12,
      "outputs": [
        {
          "output_type": "execute_result",
          "data": {
            "text/html": [
              "<div>\n",
              "<style scoped>\n",
              "    .dataframe tbody tr th:only-of-type {\n",
              "        vertical-align: middle;\n",
              "    }\n",
              "\n",
              "    .dataframe tbody tr th {\n",
              "        vertical-align: top;\n",
              "    }\n",
              "\n",
              "    .dataframe thead th {\n",
              "        text-align: right;\n",
              "    }\n",
              "</style>\n",
              "<table border=\"1\" class=\"dataframe\">\n",
              "  <thead>\n",
              "    <tr style=\"text-align: right;\">\n",
              "      <th></th>\n",
              "      <th>Unnamed: 0</th>\n",
              "      <th>symbol</th>\n",
              "      <th>date</th>\n",
              "      <th>close</th>\n",
              "      <th>high</th>\n",
              "      <th>low</th>\n",
              "      <th>open</th>\n",
              "      <th>volume</th>\n",
              "      <th>adjClose</th>\n",
              "      <th>adjHigh</th>\n",
              "      <th>adjLow</th>\n",
              "      <th>adjOpen</th>\n",
              "      <th>adjVolume</th>\n",
              "      <th>divCash</th>\n",
              "      <th>splitFactor</th>\n",
              "    </tr>\n",
              "  </thead>\n",
              "  <tbody>\n",
              "    <tr>\n",
              "      <th>1253</th>\n",
              "      <td>1253</td>\n",
              "      <td>AAPL</td>\n",
              "      <td>2020-05-18 00:00:00+00:00</td>\n",
              "      <td>314.96</td>\n",
              "      <td>316.50</td>\n",
              "      <td>310.3241</td>\n",
              "      <td>313.17</td>\n",
              "      <td>33843125</td>\n",
              "      <td>314.96</td>\n",
              "      <td>316.50</td>\n",
              "      <td>310.3241</td>\n",
              "      <td>313.17</td>\n",
              "      <td>33843125</td>\n",
              "      <td>0.0</td>\n",
              "      <td>1</td>\n",
              "    </tr>\n",
              "    <tr>\n",
              "      <th>1254</th>\n",
              "      <td>1254</td>\n",
              "      <td>AAPL</td>\n",
              "      <td>2020-05-19 00:00:00+00:00</td>\n",
              "      <td>313.14</td>\n",
              "      <td>318.52</td>\n",
              "      <td>313.0100</td>\n",
              "      <td>315.03</td>\n",
              "      <td>25432385</td>\n",
              "      <td>313.14</td>\n",
              "      <td>318.52</td>\n",
              "      <td>313.0100</td>\n",
              "      <td>315.03</td>\n",
              "      <td>25432385</td>\n",
              "      <td>0.0</td>\n",
              "      <td>1</td>\n",
              "    </tr>\n",
              "    <tr>\n",
              "      <th>1255</th>\n",
              "      <td>1255</td>\n",
              "      <td>AAPL</td>\n",
              "      <td>2020-05-20 00:00:00+00:00</td>\n",
              "      <td>319.23</td>\n",
              "      <td>319.52</td>\n",
              "      <td>316.2000</td>\n",
              "      <td>316.68</td>\n",
              "      <td>27876215</td>\n",
              "      <td>319.23</td>\n",
              "      <td>319.52</td>\n",
              "      <td>316.2000</td>\n",
              "      <td>316.68</td>\n",
              "      <td>27876215</td>\n",
              "      <td>0.0</td>\n",
              "      <td>1</td>\n",
              "    </tr>\n",
              "    <tr>\n",
              "      <th>1256</th>\n",
              "      <td>1256</td>\n",
              "      <td>AAPL</td>\n",
              "      <td>2020-05-21 00:00:00+00:00</td>\n",
              "      <td>316.85</td>\n",
              "      <td>320.89</td>\n",
              "      <td>315.8700</td>\n",
              "      <td>318.66</td>\n",
              "      <td>25672211</td>\n",
              "      <td>316.85</td>\n",
              "      <td>320.89</td>\n",
              "      <td>315.8700</td>\n",
              "      <td>318.66</td>\n",
              "      <td>25672211</td>\n",
              "      <td>0.0</td>\n",
              "      <td>1</td>\n",
              "    </tr>\n",
              "    <tr>\n",
              "      <th>1257</th>\n",
              "      <td>1257</td>\n",
              "      <td>AAPL</td>\n",
              "      <td>2020-05-22 00:00:00+00:00</td>\n",
              "      <td>318.89</td>\n",
              "      <td>319.23</td>\n",
              "      <td>315.3500</td>\n",
              "      <td>315.77</td>\n",
              "      <td>20450754</td>\n",
              "      <td>318.89</td>\n",
              "      <td>319.23</td>\n",
              "      <td>315.3500</td>\n",
              "      <td>315.77</td>\n",
              "      <td>20450754</td>\n",
              "      <td>0.0</td>\n",
              "      <td>1</td>\n",
              "    </tr>\n",
              "  </tbody>\n",
              "</table>\n",
              "</div>"
            ],
            "text/plain": [
              "      Unnamed: 0 symbol  ... divCash  splitFactor\n",
              "1253        1253   AAPL  ...     0.0            1\n",
              "1254        1254   AAPL  ...     0.0            1\n",
              "1255        1255   AAPL  ...     0.0            1\n",
              "1256        1256   AAPL  ...     0.0            1\n",
              "1257        1257   AAPL  ...     0.0            1\n",
              "\n",
              "[5 rows x 15 columns]"
            ]
          },
          "metadata": {
            "tags": []
          },
          "execution_count": 12
        }
      ]
    },
    {
      "cell_type": "code",
      "metadata": {
        "id": "DD5X93wdVy3P",
        "colab_type": "code",
        "colab": {}
      },
      "source": [
        "df1=df.reset_index()['close']"
      ],
      "execution_count": 13,
      "outputs": []
    },
    {
      "cell_type": "code",
      "metadata": {
        "id": "c_XNNmQzV5EO",
        "colab_type": "code",
        "colab": {
          "base_uri": "https://localhost:8080/",
          "height": 221
        },
        "outputId": "2fd24b07-fff3-4bf9-9b2b-c84a108f1cbc"
      },
      "source": [
        "df1"
      ],
      "execution_count": 14,
      "outputs": [
        {
          "output_type": "execute_result",
          "data": {
            "text/plain": [
              "0       132.045\n",
              "1       131.780\n",
              "2       130.280\n",
              "3       130.535\n",
              "4       129.960\n",
              "         ...   \n",
              "1253    314.960\n",
              "1254    313.140\n",
              "1255    319.230\n",
              "1256    316.850\n",
              "1257    318.890\n",
              "Name: close, Length: 1258, dtype: float64"
            ]
          },
          "metadata": {
            "tags": []
          },
          "execution_count": 14
        }
      ]
    },
    {
      "cell_type": "code",
      "metadata": {
        "id": "woLbYf-_V9Wg",
        "colab_type": "code",
        "colab": {
          "base_uri": "https://localhost:8080/",
          "height": 282
        },
        "outputId": "dcc293b8-73d4-41ed-d2f1-d505d60397b5"
      },
      "source": [
        "import matplotlib.pyplot as plt\n",
        "plt.plot(df1)"
      ],
      "execution_count": 15,
      "outputs": [
        {
          "output_type": "execute_result",
          "data": {
            "text/plain": [
              "[<matplotlib.lines.Line2D at 0x7f4c087cdd30>]"
            ]
          },
          "metadata": {
            "tags": []
          },
          "execution_count": 15
        },
        {
          "output_type": "display_data",
          "data": {
            "image/png": "[encoded data removed]",
            "text/plain": [
              "<Figure size 432x288 with 1 Axes>"
            ]
          },
          "metadata": {
            "tags": [],
            "needs_background": "light"
          }
        }
      ]
    },
    {
      "cell_type": "code",
      "metadata": {
        "id": "DFs3zUsDWCuf",
        "colab_type": "code",
        "colab": {}
      },
      "source": [
        "### LSTM are sensitive to the scale of the data. so we apply MinMax scaler"
      ],
      "execution_count": 16,
      "outputs": []
    },
    {
      "cell_type": "code",
      "metadata": {
        "id": "4asITx52WKoO",
        "colab_type": "code",
        "colab": {}
      },
      "source": [
        "import numpy as np"
      ],
      "execution_count": 17,
      "outputs": []
    },
    {
      "cell_type": "code",
      "metadata": {
        "id": "iB2YB7-aWPN1",
        "colab_type": "code",
        "colab": {
          "base_uri": "https://localhost:8080/",
          "height": 221
        },
        "outputId": "76df069b-77c8-42cc-9d82-c6c962d887ea"
      },
      "source": [
        "df1"
      ],
      "execution_count": 18,
      "outputs": [
        {
          "output_type": "execute_result",
          "data": {
            "text/plain": [
              "0       132.045\n",
              "1       131.780\n",
              "2       130.280\n",
              "3       130.535\n",
              "4       129.960\n",
              "         ...   \n",
              "1253    314.960\n",
              "1254    313.140\n",
              "1255    319.230\n",
              "1256    316.850\n",
              "1257    318.890\n",
              "Name: close, Length: 1258, dtype: float64"
            ]
          },
          "metadata": {
            "tags": []
          },
          "execution_count": 18
        }
      ]
    },
    {
      "cell_type": "code",
      "metadata": {
        "id": "Wd5AB51GWRUW",
        "colab_type": "code",
        "colab": {}
      },
      "source": [
        "from sklearn.preprocessing import MinMaxScaler\n",
        "scaler=MinMaxScaler(feature_range=(0,1))\n",
        "df1=scaler.fit_transform(np.array(df1).reshape(-1,1))"
      ],
      "execution_count": 19,
      "outputs": []
    },
    {
      "cell_type": "code",
      "metadata": {
        "id": "kxNr8do9WWX-",
        "colab_type": "code",
        "colab": {
          "base_uri": "https://localhost:8080/",
          "height": 136
        },
        "outputId": "21721c02-15f5-4467-e011-3febda2d12db"
      },
      "source": [
        "print(df1)"
      ],
      "execution_count": 20,
      "outputs": [
        {
          "output_type": "stream",
          "text": [
            "[[0.17607447]\n",
            " [0.17495567]\n",
            " [0.16862282]\n",
            " ...\n",
            " [0.96635143]\n",
            " [0.9563033 ]\n",
            " [0.96491598]]\n"
          ],
          "name": "stdout"
        }
      ]
    },
    {
      "cell_type": "code",
      "metadata": {
        "id": "dgoIgQN-WZbY",
        "colab_type": "code",
        "colab": {}
      },
      "source": [
        "##splitting dataset into train and test split\n",
        "training_size=int(len(df1)*0.65)\n",
        "test_size=len(df1)-training_size\n",
        "train_data,test_data=df1[0:training_size,:],df1[training_size:len(df1),:1]"
      ],
      "execution_count": 21,
      "outputs": []
    },
    {
      "cell_type": "code",
      "metadata": {
        "id": "XSWzgTqgWdvI",
        "colab_type": "code",
        "colab": {
          "base_uri": "https://localhost:8080/",
          "height": 34
        },
        "outputId": "306a4bf2-4673-403c-ef1c-39219a38da73"
      },
      "source": [
        "training_size,test_size"
      ],
      "execution_count": 22,
      "outputs": [
        {
          "output_type": "execute_result",
          "data": {
            "text/plain": [
              "(817, 441)"
            ]
          },
          "metadata": {
            "tags": []
          },
          "execution_count": 22
        }
      ]
    },
    {
      "cell_type": "code",
      "metadata": {
        "id": "eRFm3rgQWhXP",
        "colab_type": "code",
        "colab": {
          "base_uri": "https://localhost:8080/",
          "height": 1000
        },
        "outputId": "e57ff85d-2f86-4118-c1b7-89f9208b8f2d"
      },
      "source": [
        "train_data"
      ],
      "execution_count": 23,
      "outputs": [
        {
          "output_type": "execute_result",
          "data": {
            "text/plain": [
              "array([[0.17607447],\n",
              "       [0.17495567],\n",
              "       [0.16862282],\n",
              "       [0.1696994 ],\n",
              "       [0.16727181],\n",
              "       [0.16794731],\n",
              "       [0.16473866],\n",
              "       [0.16174111],\n",
              "       [0.1581525 ],\n",
              "       [0.15654817],\n",
              "       [0.16271215],\n",
              "       [0.1614878 ],\n",
              "       [0.1554927 ],\n",
              "       [0.15443722],\n",
              "       [0.15730811],\n",
              "       [0.15604154],\n",
              "       [0.15849025],\n",
              "       [0.15308621],\n",
              "       [0.15735033],\n",
              "       [0.15490163],\n",
              "       [0.15946129],\n",
              "       [0.15688592],\n",
              "       [0.1537195 ],\n",
              "       [0.14434687],\n",
              "       [0.14812547],\n",
              "       [0.15308621],\n",
              "       [0.15241071],\n",
              "       [0.15055307],\n",
              "       [0.14924428],\n",
              "       [0.13607194],\n",
              "       [0.12551718],\n",
              "       [0.13906949],\n",
              "       [0.14911762],\n",
              "       [0.14890653],\n",
              "       [0.15401503],\n",
              "       [0.16115005],\n",
              "       [0.16583636],\n",
              "       [0.17618002],\n",
              "       [0.17060711],\n",
              "       [0.14725998],\n",
              "       [0.14700667],\n",
              "       [0.14422021],\n",
              "       [0.13691632],\n",
              "       [0.13949168],\n",
              "       [0.13784514],\n",
              "       [0.13522756],\n",
              "       [0.13071012],\n",
              "       [0.11863548],\n",
              "       [0.10259225],\n",
              "       [0.1058009 ],\n",
              "       [0.10466098],\n",
              "       [0.10630752],\n",
              "       [0.12403952],\n",
              "       [0.09773706],\n",
              "       [0.10512539],\n",
              "       [0.10474542],\n",
              "       [0.10816516],\n",
              "       [0.11323144],\n",
              "       [0.11044499],\n",
              "       [0.10415435],\n",
              "       [0.09419066],\n",
              "       [0.06510175],\n",
              "       [0.05395592],\n",
              "       [0.0565735 ],\n",
              "       [0.08169383],\n",
              "       [0.09533058],\n",
              "       [0.09689268],\n",
              "       [0.09465507],\n",
              "       [0.07337668],\n",
              "       [0.09288187],\n",
              "       [0.08456472],\n",
              "       [0.07992063],\n",
              "       [0.09275521],\n",
              "       [0.0836359 ],\n",
              "       [0.09385291],\n",
              "       [0.10077683],\n",
              "       [0.10542092],\n",
              "       [0.10951617],\n",
              "       [0.11006502],\n",
              "       [0.09955248],\n",
              "       [0.09756818],\n",
              "       [0.10499873],\n",
              "       [0.09735709],\n",
              "       [0.10124124],\n",
              "       [0.10411213],\n",
              "       [0.10288778],\n",
              "       [0.09330406],\n",
              "       [0.07903403],\n",
              "       [0.08426919],\n",
              "       [0.08122942],\n",
              "       [0.08460694],\n",
              "       [0.0862957 ],\n",
              "       [0.08853331],\n",
              "       [0.0862957 ],\n",
              "       [0.08089167],\n",
              "       [0.09195305],\n",
              "       [0.08975766],\n",
              "       [0.09055982],\n",
              "       [0.08388922],\n",
              "       [0.09085536],\n",
              "       [0.0873934 ],\n",
              "       [0.09030651],\n",
              "       [0.09891919],\n",
              "       [0.09887697],\n",
              "       [0.10622309],\n",
              "       [0.1213375 ],\n",
              "       [0.10529427],\n",
              "       [0.10221228],\n",
              "       [0.12213966],\n",
              "       [0.12745926],\n",
              "       [0.1231107 ],\n",
              "       [0.1302035 ],\n",
              "       [0.13607194],\n",
              "       [0.13366546],\n",
              "       [0.1291058 ],\n",
              "       [0.12969687],\n",
              "       [0.12762813],\n",
              "       [0.1115849 ],\n",
              "       [0.10879845],\n",
              "       [0.1071519 ],\n",
              "       [0.09288187],\n",
              "       [0.10062906],\n",
              "       [0.09858144],\n",
              "       [0.11378029],\n",
              "       [0.12007093],\n",
              "       [0.12226632],\n",
              "       [0.11572237],\n",
              "       [0.12049312],\n",
              "       [0.1169045 ],\n",
              "       [0.11597568],\n",
              "       [0.11804441],\n",
              "       [0.11399139],\n",
              "       [0.10951617],\n",
              "       [0.10495651],\n",
              "       [0.1211264 ],\n",
              "       [0.11795998],\n",
              "       [0.11774888],\n",
              "       [0.10672971],\n",
              "       [0.10905176],\n",
              "       [0.09642827],\n",
              "       [0.09347294],\n",
              "       [0.08507135],\n",
              "       [0.08865997],\n",
              "       [0.07869628],\n",
              "       [0.06624166],\n",
              "       [0.07173014],\n",
              "       [0.07130795],\n",
              "       [0.07713417],\n",
              "       [0.07468547],\n",
              "       [0.06957697],\n",
              "       [0.07768302],\n",
              "       [0.07168792],\n",
              "       [0.0629908 ],\n",
              "       [0.06337077],\n",
              "       [0.05222494],\n",
              "       [0.04373892],\n",
              "       [0.02579583],\n",
              "       [0.027949  ],\n",
              "       [0.03457739],\n",
              "       [0.04061471],\n",
              "       [0.02976442],\n",
              "       [0.03875707],\n",
              "       [0.02866672],\n",
              "       [0.02668243],\n",
              "       [0.02723128],\n",
              "       [0.02516254],\n",
              "       [0.04677869],\n",
              "       [0.03841932],\n",
              "       [0.04074137],\n",
              "       [0.01300346],\n",
              "       [0.01583214],\n",
              "       [0.02955332],\n",
              "       [0.02571139],\n",
              "       [0.01747868],\n",
              "       [0.02537364],\n",
              "       [0.02642911],\n",
              "       [0.0155366 ],\n",
              "       [0.01971629],\n",
              "       [0.01963185],\n",
              "       [0.01659208],\n",
              "       [0.01418559],\n",
              "       [0.01540995],\n",
              "       [0.02659799],\n",
              "       [0.03284641],\n",
              "       [0.02499367],\n",
              "       [0.02406485],\n",
              "       [0.02761125],\n",
              "       [0.01836528],\n",
              "       [0.02431816],\n",
              "       [0.02710462],\n",
              "       [0.0277379 ],\n",
              "       [0.02680909],\n",
              "       [0.04302119],\n",
              "       [0.04395001],\n",
              "       [0.04711644],\n",
              "       [0.05349151],\n",
              "       [0.04867854],\n",
              "       [0.04513215],\n",
              "       [0.04551212],\n",
              "       [0.04572321],\n",
              "       [0.05032509],\n",
              "       [0.05142278],\n",
              "       [0.0601199 ],\n",
              "       [0.06598835],\n",
              "       [0.06527062],\n",
              "       [0.06577725],\n",
              "       [0.06573503],\n",
              "       [0.06915477],\n",
              "       [0.06666385],\n",
              "       [0.06472178],\n",
              "       [0.06269526],\n",
              "       [0.0732078 ],\n",
              "       [0.08114498],\n",
              "       [0.0787385 ],\n",
              "       [0.0829604 ],\n",
              "       [0.08773115],\n",
              "       [0.08220046],\n",
              "       [0.08705564],\n",
              "       [0.07683864],\n",
              "       [0.07734527],\n",
              "       [0.07886515],\n",
              "       [0.08486026],\n",
              "       [0.0916153 ],\n",
              "       [0.09186861],\n",
              "       [0.08236933],\n",
              "       [0.07236342],\n",
              "       [0.06995694],\n",
              "       [0.07088576],\n",
              "       [0.06598835],\n",
              "       [0.064764  ],\n",
              "       [0.06223085],\n",
              "       [0.05914886],\n",
              "       [0.03157984],\n",
              "       [0.01895635],\n",
              "       [0.01435447],\n",
              "       [0.01393228],\n",
              "       [0.02043401],\n",
              "       [0.01625433],\n",
              "       [0.01224352],\n",
              "       [0.01004813],\n",
              "       [0.01034366],\n",
              "       [0.01300346],\n",
              "       [0.00916153],\n",
              "       [0.        ],\n",
              "       [0.00075994],\n",
              "       [0.01494554],\n",
              "       [0.013299  ],\n",
              "       [0.01781643],\n",
              "       [0.01629655],\n",
              "       [0.02060289],\n",
              "       [0.02571139],\n",
              "       [0.03191759],\n",
              "       [0.03917926],\n",
              "       [0.04251457],\n",
              "       [0.04226125],\n",
              "       [0.04019252],\n",
              "       [0.03428185],\n",
              "       [0.03115765],\n",
              "       [0.03200203],\n",
              "       [0.03499958],\n",
              "       [0.03668834],\n",
              "       [0.03630837],\n",
              "       [0.03930592],\n",
              "       [0.03584396],\n",
              "       [0.02955332],\n",
              "       [0.03005995],\n",
              "       [0.02870894],\n",
              "       [0.03043992],\n",
              "       [0.0210673 ],\n",
              "       [0.02009626],\n",
              "       [0.023516  ],\n",
              "       [0.02199612],\n",
              "       [0.02431816],\n",
              "       [0.01291902],\n",
              "       [0.00717724],\n",
              "       [0.01372119],\n",
              "       [0.01714093],\n",
              "       [0.02220721],\n",
              "       [0.02343156],\n",
              "       [0.01963185],\n",
              "       [0.02191168],\n",
              "       [0.02364266],\n",
              "       [0.02676687],\n",
              "       [0.02803344],\n",
              "       [0.02989107],\n",
              "       [0.02756903],\n",
              "       [0.03567508],\n",
              "       [0.03563286],\n",
              "       [0.04006586],\n",
              "       [0.04023474],\n",
              "       [0.04061471],\n",
              "       [0.0383771 ],\n",
              "       [0.03512623],\n",
              "       [0.02955332],\n",
              "       [0.02672465],\n",
              "       [0.0532382 ],\n",
              "       [0.05910665],\n",
              "       [0.0585578 ],\n",
              "       [0.0663261 ],\n",
              "       [0.05969771],\n",
              "       [0.0652284 ],\n",
              "       [0.06556616],\n",
              "       [0.07236342],\n",
              "       [0.07612092],\n",
              "       [0.07797855],\n",
              "       [0.07455881],\n",
              "       [0.07426328],\n",
              "       [0.07531875],\n",
              "       [0.08080723],\n",
              "       [0.08038504],\n",
              "       [0.07970953],\n",
              "       [0.07911847],\n",
              "       [0.0803006 ],\n",
              "       [0.07671198],\n",
              "       [0.07814743],\n",
              "       [0.07468547],\n",
              "       [0.07274339],\n",
              "       [0.07008359],\n",
              "       [0.06957697],\n",
              "       [0.066115  ],\n",
              "       [0.06653719],\n",
              "       [0.06919699],\n",
              "       [0.0734189 ],\n",
              "       [0.07329224],\n",
              "       [0.0760787 ],\n",
              "       [0.06408849],\n",
              "       [0.05399814],\n",
              "       [0.06375074],\n",
              "       [0.07434772],\n",
              "       [0.09047539],\n",
              "       [0.10651862],\n",
              "       [0.10377438],\n",
              "       [0.09811703],\n",
              "       [0.09807481],\n",
              "       [0.09799037],\n",
              "       [0.10250781],\n",
              "       [0.09444398],\n",
              "       [0.0951617 ],\n",
              "       [0.0960483 ],\n",
              "       [0.09967914],\n",
              "       [0.09220637],\n",
              "       [0.09587942],\n",
              "       [0.09364181],\n",
              "       [0.09566833],\n",
              "       [0.09587942],\n",
              "       [0.09942582],\n",
              "       [0.10014354],\n",
              "       [0.10854513],\n",
              "       [0.10960061],\n",
              "       [0.11399139],\n",
              "       [0.1124715 ],\n",
              "       [0.11521574],\n",
              "       [0.11487799],\n",
              "       [0.11454023],\n",
              "       [0.11306257],\n",
              "       [0.11280925],\n",
              "       [0.11086718],\n",
              "       [0.11530018],\n",
              "       [0.11783332],\n",
              "       [0.10660306],\n",
              "       [0.10191674],\n",
              "       [0.0987081 ],\n",
              "       [0.09794816],\n",
              "       [0.08929325],\n",
              "       [0.08971544],\n",
              "       [0.08228489],\n",
              "       [0.07810521],\n",
              "       [0.0847336 ],\n",
              "       [0.08747784],\n",
              "       [0.08671789],\n",
              "       [0.07367221],\n",
              "       [0.07637423],\n",
              "       [0.06489065],\n",
              "       [0.07080132],\n",
              "       [0.0829604 ],\n",
              "       [0.08279152],\n",
              "       [0.08325593],\n",
              "       [0.09030651],\n",
              "       [0.09060204],\n",
              "       [0.08819556],\n",
              "       [0.09055982],\n",
              "       [0.08963101],\n",
              "       [0.0891666 ],\n",
              "       [0.08519801],\n",
              "       [0.08084945],\n",
              "       [0.08258043],\n",
              "       [0.07924512],\n",
              "       [0.08279152],\n",
              "       [0.08735118],\n",
              "       [0.09195305],\n",
              "       [0.09967914],\n",
              "       [0.0969349 ],\n",
              "       [0.1049143 ],\n",
              "       [0.1049143 ],\n",
              "       [0.10757409],\n",
              "       [0.10820738],\n",
              "       [0.11103606],\n",
              "       [0.11234485],\n",
              "       [0.11280925],\n",
              "       [0.10955839],\n",
              "       [0.11052943],\n",
              "       [0.11365364],\n",
              "       [0.11154268],\n",
              "       [0.11141603],\n",
              "       [0.10757409],\n",
              "       [0.10896732],\n",
              "       [0.10841848],\n",
              "       [0.1109094 ],\n",
              "       [0.11639787],\n",
              "       [0.12095753],\n",
              "       [0.12146416],\n",
              "       [0.12416617],\n",
              "       [0.12205522],\n",
              "       [0.12116862],\n",
              "       [0.12522165],\n",
              "       [0.12517943],\n",
              "       [0.12429283],\n",
              "       [0.12522165],\n",
              "       [0.1255594 ],\n",
              "       [0.12509499],\n",
              "       [0.13315883],\n",
              "       [0.13341214],\n",
              "       [0.13345436],\n",
              "       [0.13210335],\n",
              "       [0.13092122],\n",
              "       [0.1621633 ],\n",
              "       [0.16123448],\n",
              "       [0.16355653],\n",
              "       [0.16866503],\n",
              "       [0.17390019],\n",
              "       [0.17605336],\n",
              "       [0.17765769],\n",
              "       [0.17639112],\n",
              "       [0.18133074],\n",
              "       [0.18863464],\n",
              "       [0.19070337],\n",
              "       [0.19000676],\n",
              "       [0.19158997],\n",
              "       [0.19572743],\n",
              "       [0.19745841],\n",
              "       [0.19500971],\n",
              "       [0.19555856],\n",
              "       [0.19669847],\n",
              "       [0.19695179],\n",
              "       [0.20877311],\n",
              "       [0.20526894],\n",
              "       [0.2087309 ],\n",
              "       [0.20687326],\n",
              "       [0.2076332 ],\n",
              "       [0.20543781],\n",
              "       [0.2040868 ],\n",
              "       [0.20602888],\n",
              "       [0.20628219],\n",
              "       [0.20539559],\n",
              "       [0.21160179],\n",
              "       [0.21257283],\n",
              "       [0.2096175 ],\n",
              "       [0.21582369],\n",
              "       [0.20898421],\n",
              "       [0.21565482],\n",
              "       [0.21354387],\n",
              "       [0.21236173],\n",
              "       [0.21337499],\n",
              "       [0.22570295],\n",
              "       [0.22705396],\n",
              "       [0.22625179],\n",
              "       [0.22511188],\n",
              "       [0.22528076],\n",
              "       [0.22979819],\n",
              "       [0.22663177],\n",
              "       [0.22511188],\n",
              "       [0.22376087],\n",
              "       [0.22304315],\n",
              "       [0.21654142],\n",
              "       [0.21725914],\n",
              "       [0.21409271],\n",
              "       [0.2173858 ],\n",
              "       [0.214726  ],\n",
              "       [0.21253061],\n",
              "       [0.21996116],\n",
              "       [0.21924343],\n",
              "       [0.22502744],\n",
              "       [0.22878494],\n",
              "       [0.22519632],\n",
              "       [0.22566073],\n",
              "       [0.22506966],\n",
              "       [0.23743984],\n",
              "       [0.24136621],\n",
              "       [0.23946635],\n",
              "       [0.23722874],\n",
              "       [0.24748797],\n",
              "       [0.26458668],\n",
              "       [0.26872414],\n",
              "       [0.26564215],\n",
              "       [0.26855526],\n",
              "       [0.27763236],\n",
              "       [0.2759436 ],\n",
              "       [0.27497256],\n",
              "       [0.25293422],\n",
              "       [0.26260238],\n",
              "       [0.26479777],\n",
              "       [0.26872414],\n",
              "       [0.26792198],\n",
              "       [0.2659799 ],\n",
              "       [0.26821751],\n",
              "       [0.26711982],\n",
              "       [0.26737313],\n",
              "       [0.2635312 ],\n",
              "       [0.2653044 ],\n",
              "       [0.27488812],\n",
              "       [0.26847083],\n",
              "       [0.27066622],\n",
              "       [0.27455037],\n",
              "       [0.27294604],\n",
              "       [0.24757241],\n",
              "       [0.23254243],\n",
              "       [0.23748206],\n",
              "       [0.23144474],\n",
              "       [0.22777168],\n",
              "       [0.21924343],\n",
              "       [0.23642658],\n",
              "       [0.23081145],\n",
              "       [0.23444229],\n",
              "       [0.23342903],\n",
              "       [0.23617327],\n",
              "       [0.23423119],\n",
              "       [0.22540741],\n",
              "       [0.23427341],\n",
              "       [0.22519632],\n",
              "       [0.22663177],\n",
              "       [0.22443638],\n",
              "       [0.2269273 ],\n",
              "       [0.22118551],\n",
              "       [0.22730727],\n",
              "       [0.23102254],\n",
              "       [0.23300684],\n",
              "       [0.23389344],\n",
              "       [0.2424639 ],\n",
              "       [0.24782572],\n",
              "       [0.25002111],\n",
              "       [0.2522165 ],\n",
              "       [0.25618509],\n",
              "       [0.25331419],\n",
              "       [0.25301866],\n",
              "       [0.26070252],\n",
              "       [0.26344676],\n",
              "       [0.26648653],\n",
              "       [0.25424301],\n",
              "       [0.2497678 ],\n",
              "       [0.24651693],\n",
              "       [0.25208984],\n",
              "       [0.28202314],\n",
              "       [0.27539475],\n",
              "       [0.27885671],\n",
              "       [0.28907371],\n",
              "       [0.29443553],\n",
              "       [0.298573  ],\n",
              "       [0.27433927],\n",
              "       [0.28345858],\n",
              "       [0.29346449],\n",
              "       [0.30085282],\n",
              "       [0.29810859],\n",
              "       [0.28506291],\n",
              "       [0.28354302],\n",
              "       [0.28231867],\n",
              "       [0.29316896],\n",
              "       [0.29401334],\n",
              "       [0.29101579],\n",
              "       [0.29350671],\n",
              "       [0.30030398],\n",
              "       [0.30638352],\n",
              "       [0.30824116],\n",
              "       [0.31098539],\n",
              "       [0.31119649],\n",
              "       [0.30287934],\n",
              "       [0.30216161],\n",
              "       [0.29941738],\n",
              "       [0.28831377],\n",
              "       [0.30043063],\n",
              "       [0.29772862],\n",
              "       [0.29262011],\n",
              "       [0.28683611],\n",
              "       [0.29359115],\n",
              "       [0.28848265],\n",
              "       [0.28873596],\n",
              "       [0.2775057 ],\n",
              "       [0.266191  ],\n",
              "       [0.25985814],\n",
              "       [0.25420079],\n",
              "       [0.26513552],\n",
              "       [0.2697374 ],\n",
              "       [0.26572659],\n",
              "       [0.26927299],\n",
              "       [0.2679642 ],\n",
              "       [0.27079287],\n",
              "       [0.26657097],\n",
              "       [0.27463481],\n",
              "       [0.27425483],\n",
              "       [0.27653466],\n",
              "       [0.27678798],\n",
              "       [0.27953221],\n",
              "       [0.27721017],\n",
              "       [0.28138985],\n",
              "       [0.29359115],\n",
              "       [0.29608207],\n",
              "       [0.29308452],\n",
              "       [0.27712573],\n",
              "       [0.27826564],\n",
              "       [0.27792789],\n",
              "       [0.28185426],\n",
              "       [0.27894115],\n",
              "       [0.28316305],\n",
              "       [0.30697458],\n",
              "       [0.32246897],\n",
              "       [0.33226378],\n",
              "       [0.32318669],\n",
              "       [0.32833741],\n",
              "       [0.34687157],\n",
              "       [0.3542599 ],\n",
              "       [0.35662417],\n",
              "       [0.36266149],\n",
              "       [0.3611416 ],\n",
              "       [0.3560331 ],\n",
              "       [0.35307777],\n",
              "       [0.34197416],\n",
              "       [0.33243266],\n",
              "       [0.34096091],\n",
              "       [0.3369501 ],\n",
              "       [0.33623237],\n",
              "       [0.34957359],\n",
              "       [0.35725745],\n",
              "       [0.35729967],\n",
              "       [0.3535844 ],\n",
              "       [0.34927805],\n",
              "       [0.33412142],\n",
              "       [0.34412733],\n",
              "       [0.34074981],\n",
              "       [0.33547243],\n",
              "       [0.33479693],\n",
              "       [0.33213713],\n",
              "       [0.33344592],\n",
              "       [0.33365701],\n",
              "       [0.34758929],\n",
              "       [0.34349405],\n",
              "       [0.34590053],\n",
              "       [0.34568944],\n",
              "       [0.35307777],\n",
              "       [0.36342143],\n",
              "       [0.35548425],\n",
              "       [0.35468209],\n",
              "       [0.35746855],\n",
              "       [0.35746855],\n",
              "       [0.3387233 ],\n",
              "       [0.33884995],\n",
              "       [0.34087647],\n",
              "       [0.33306595],\n",
              "       [0.34585831],\n",
              "       [0.34573166],\n",
              "       [0.34910918],\n",
              "       [0.35742633],\n",
              "       [0.35468209],\n",
              "       [0.35459765],\n",
              "       [0.35442878],\n",
              "       [0.35860846],\n",
              "       [0.36625011],\n",
              "       [0.36245039],\n",
              "       [0.37473613],\n",
              "       [0.37541164],\n",
              "       [0.37203411],\n",
              "       [0.36587013],\n",
              "       [0.36603901],\n",
              "       [0.35413324],\n",
              "       [0.34100312],\n",
              "       [0.34269189],\n",
              "       [0.32770413],\n",
              "       [0.32352444],\n",
              "       [0.32546652],\n",
              "       [0.32694419],\n",
              "       [0.29620873],\n",
              "       [0.2792789 ],\n",
              "       [0.30689015],\n",
              "       [0.2921557 ],\n",
              "       [0.27362155],\n",
              "       [0.27894115],\n",
              "       [0.30553914],\n",
              "       [0.31242084],\n",
              "       [0.32521321],\n",
              "       [0.3489403 ],\n",
              "       [0.34657604],\n",
              "       [0.34412733],\n",
              "       [0.34083425],\n",
              "       [0.34687157],\n",
              "       [0.35953728],\n",
              "       [0.37418728],\n",
              "       [0.37173858],\n",
              "       [0.37059867],\n",
              "       [0.35742633],\n",
              "       [0.36253483],\n",
              "       [0.36511019],\n",
              "       [0.36447691],\n",
              "       [0.35755298],\n",
              "       [0.36561682],\n",
              "       [0.37845141],\n",
              "       [0.38579752],\n",
              "       [0.37840919],\n",
              "       [0.37194967],\n",
              "       [0.37283627],\n",
              "       [0.37017648],\n",
              "       [0.3586929 ],\n",
              "       [0.35843958],\n",
              "       [0.34167863],\n",
              "       [0.33146162],\n",
              "       [0.31495398],\n",
              "       [0.34801148],\n",
              "       [0.32930845],\n",
              "       [0.32145571],\n",
              "       [0.32694419],\n",
              "       [0.32230009],\n",
              "       [0.32951955],\n",
              "       [0.34311408],\n",
              "       [0.34813814],\n",
              "       [0.32947733],\n",
              "       [0.33652791],\n",
              "       [0.350038  ],\n",
              "       [0.34661826],\n",
              "       [0.35379549],\n",
              "       [0.35628641],\n",
              "       [0.36088829],\n",
              "       [0.37110529],\n",
              "       [0.36941653],\n",
              "       [0.34813814],\n",
              "       [0.31824707],\n",
              "       [0.31622055],\n",
              "       [0.30651017],\n",
              "       [0.30950773],\n",
              "       [0.31191421],\n",
              "       [0.30389259],\n",
              "       [0.31630499],\n",
              "       [0.3325171 ],\n",
              "       [0.36405472],\n",
              "       [0.36540572],\n",
              "       [0.39470573],\n",
              "       [0.40032086],\n",
              "       [0.40407836],\n",
              "       [0.40960905],\n",
              "       [0.42092375],\n",
              "       [0.41480199],\n",
              "       [0.41294436],\n",
              "       [0.4057249 ],\n",
              "       [0.41307101],\n",
              "       [0.40804695],\n",
              "       [0.40517605],\n",
              "       [0.41074897],\n",
              "       [0.40876467],\n",
              "       [0.41383095],\n",
              "       [0.41294436],\n",
              "       [0.41475977],\n",
              "       [0.41188888],\n",
              "       [0.41020012],\n",
              "       [0.40754032],\n",
              "       [0.42176813],\n",
              "       [0.42848096],\n",
              "       [0.43472938],\n",
              "       [0.43755805],\n",
              "       [0.43536266],\n",
              "       [0.42793211],\n",
              "       [0.42594782],\n",
              "       [0.43038082],\n",
              "       [0.42371021],\n",
              "       [0.4241324 ],\n",
              "       [0.41585747],\n",
              "       [0.41543528],\n",
              "       [0.40255847],\n",
              "       [0.40597821],\n",
              "       [0.40158744],\n",
              "       [0.39930761],\n",
              "       [0.38769737],\n",
              "       [0.39723888],\n",
              "       [0.39609896],\n",
              "       [0.40175631],\n",
              "       [0.40010977],\n",
              "       [0.40884911],\n",
              "       [0.3950857 ],\n",
              "       [0.40133412],\n",
              "       [0.41218441],\n",
              "       [0.42320358],\n",
              "       [0.42223254],\n",
              "       [0.41180444],\n",
              "       [0.42510344],\n",
              "       [0.42637001],\n",
              "       [0.42459681],\n",
              "       [0.42687664],\n",
              "       [0.42244364],\n",
              "       [0.42869205],\n",
              "       [0.42683442],\n",
              "       [0.42755214],\n",
              "       [0.43342059],\n",
              "       [0.44110445],\n",
              "       [0.43852909],\n",
              "       [0.42489234],\n",
              "       [0.42037491],\n",
              "       [0.42197923],\n",
              "       [0.46930676],\n",
              "       [0.49417377],\n",
              "       [0.49670692],\n",
              "       [0.50126657],\n",
              "       [0.49299164],\n",
              "       [0.49358271],\n",
              "       [0.50046441],\n",
              "       [0.49476484],\n",
              "       [0.50042219],\n",
              "       [0.50413747],\n",
              "       [0.5062062 ],\n",
              "       [0.51920966],\n",
              "       [0.53719497],\n",
              "       [0.52824453],\n",
              "       [0.52647133]])"
            ]
          },
          "metadata": {
            "tags": []
          },
          "execution_count": 23
        }
      ]
    },
    {
      "cell_type": "code",
      "metadata": {
        "id": "BSowJ84iWqoQ",
        "colab_type": "code",
        "colab": {}
      },
      "source": [
        "import numpy\n",
        "# convert an array of values into a dataset matrix\n",
        "def create_dataset(dataset, time_step=1):\n",
        "\tdataX, dataY = [], []\n",
        "\tfor i in range(len(dataset)-time_step-1):\n",
        "\t\ta = dataset[i:(i+time_step), 0]   ###i=0, 0,1,2,3-----99   100 \n",
        "\t\tdataX.append(a)\n",
        "\t\tdataY.append(dataset[i + time_step, 0])\n",
        "\treturn numpy.array(dataX), numpy.array(dataY)"
      ],
      "execution_count": 24,
      "outputs": []
    },
    {
      "cell_type": "code",
      "metadata": {
        "id": "ury8NhWSWvoC",
        "colab_type": "code",
        "colab": {}
      },
      "source": [
        "# reshape into X=t,t+1,t+2,t+3 and Y=t+4\n",
        "time_step = 100\n",
        "X_train, y_train = create_dataset(train_data, time_step)\n",
        "X_test, ytest = create_dataset(test_data, time_step)\n"
      ],
      "execution_count": 25,
      "outputs": []
    },
    {
      "cell_type": "code",
      "metadata": {
        "id": "-iRpV5ZfW2hf",
        "colab_type": "code",
        "colab": {
          "base_uri": "https://localhost:8080/",
          "height": 68
        },
        "outputId": "4b2be3e0-dd6a-4e34-c373-ea00ced59d0f"
      },
      "source": [
        "print(X_train.shape), print(y_train.shape)"
      ],
      "execution_count": 26,
      "outputs": [
        {
          "output_type": "stream",
          "text": [
            "(716, 100)\n",
            "(716,)\n"
          ],
          "name": "stdout"
        },
        {
          "output_type": "execute_result",
          "data": {
            "text/plain": [
              "(None, None)"
            ]
          },
          "metadata": {
            "tags": []
          },
          "execution_count": 26
        }
      ]
    },
    {
      "cell_type": "code",
      "metadata": {
        "id": "OWv-io5VW5dP",
        "colab_type": "code",
        "colab": {
          "base_uri": "https://localhost:8080/",
          "height": 68
        },
        "outputId": "5a3fdd80-8635-4df3-8d03-06c5c2d0a04d"
      },
      "source": [
        "print(X_test.shape), print(ytest.shape)"
      ],
      "execution_count": 27,
      "outputs": [
        {
          "output_type": "stream",
          "text": [
            "(340, 100)\n",
            "(340,)\n"
          ],
          "name": "stdout"
        },
        {
          "output_type": "execute_result",
          "data": {
            "text/plain": [
              "(None, None)"
            ]
          },
          "metadata": {
            "tags": []
          },
          "execution_count": 27
        }
      ]
    },
    {
      "cell_type": "code",
      "metadata": {
        "id": "5k-PUV4FW8cK",
        "colab_type": "code",
        "colab": {}
      },
      "source": [
        "# reshape input to be [samples, time steps, features] which is required for LSTM\n",
        "X_train =X_train.reshape(X_train.shape[0],X_train.shape[1] , 1)\n",
        "X_test = X_test.reshape(X_test.shape[0],X_test.shape[1] , 1)"
      ],
      "execution_count": 28,
      "outputs": []
    },
    {
      "cell_type": "code",
      "metadata": {
        "id": "H9wyKCwaXAha",
        "colab_type": "code",
        "colab": {}
      },
      "source": [
        "### Create the Stacked LSTM model\n",
        "from tensorflow.keras.models import Sequential\n",
        "from tensorflow.keras.layers import Dense\n",
        "from tensorflow.keras.layers import LSTM"
      ],
      "execution_count": 30,
      "outputs": []
    },
    {
      "cell_type": "code",
      "metadata": {
        "id": "K_uYBPstXG-X",
        "colab_type": "code",
        "colab": {}
      },
      "source": [
        "model=Sequential()\n",
        "model.add(LSTM(50,return_sequences=True,input_shape=(100,1)))\n",
        "model.add(LSTM(50,return_sequences=True))\n",
        "model.add(LSTM(50))\n",
        "model.add(Dense(1))\n",
        "model.compile(loss='mean_squared_error',optimizer='adam')"
      ],
      "execution_count": 31,
      "outputs": []
    },
    {
      "cell_type": "code",
      "metadata": {
        "id": "L0_ljaO1XI18",
        "colab_type": "code",
        "colab": {
          "base_uri": "https://localhost:8080/",
          "height": 289
        },
        "outputId": "9420b120-d005-4b1c-ed4e-a1e01c79cfcb"
      },
      "source": [
        "model.summary()"
      ],
      "execution_count": 32,
      "outputs": [
        {
          "output_type": "stream",
          "text": [
            "Model: \"sequential\"\n",
            "_________________________________________________________________\n",
            "Layer (type)                 Output Shape              Param #   \n",
            "=================================================================\n",
            "lstm (LSTM)                  (None, 100, 50)           10400     \n",
            "_________________________________________________________________\n",
            "lstm_1 (LSTM)                (None, 100, 50)           20200     \n",
            "_________________________________________________________________\n",
            "lstm_2 (LSTM)                (None, 50)                20200     \n",
            "_________________________________________________________________\n",
            "dense (Dense)                (None, 1)                 51        \n",
            "=================================================================\n",
            "Total params: 50,851\n",
            "Trainable params: 50,851\n",
            "Non-trainable params: 0\n",
            "_________________________________________________________________\n"
          ],
          "name": "stdout"
        }
      ]
    },
    {
      "cell_type": "code",
      "metadata": {
        "id": "hPQRpkruXLyu",
        "colab_type": "code",
        "colab": {
          "base_uri": "https://localhost:8080/",
          "height": 289
        },
        "outputId": "f8f6ee97-bbe8-44ee-81e3-d5977d516496"
      },
      "source": [
        "model.summary()"
      ],
      "execution_count": 33,
      "outputs": [
        {
          "output_type": "stream",
          "text": [
            "Model: \"sequential\"\n",
            "_________________________________________________________________\n",
            "Layer (type)                 Output Shape              Param #   \n",
            "=================================================================\n",
            "lstm (LSTM)                  (None, 100, 50)           10400     \n",
            "_________________________________________________________________\n",
            "lstm_1 (LSTM)                (None, 100, 50)           20200     \n",
            "_________________________________________________________________\n",
            "lstm_2 (LSTM)                (None, 50)                20200     \n",
            "_________________________________________________________________\n",
            "dense (Dense)                (None, 1)                 51        \n",
            "=================================================================\n",
            "Total params: 50,851\n",
            "Trainable params: 50,851\n",
            "Non-trainable params: 0\n",
            "_________________________________________________________________\n"
          ],
          "name": "stdout"
        }
      ]
    },
    {
      "cell_type": "code",
      "metadata": {
        "id": "KpwP_Y5JXTv9",
        "colab_type": "code",
        "colab": {
          "base_uri": "https://localhost:8080/",
          "height": 1000
        },
        "outputId": "c259078b-a9ea-46d8-c443-74433561d409"
      },
      "source": [
        "model.fit(X_train,y_train,validation_data=(X_test,ytest),epochs=100,batch_size=64,verbose=1)"
      ],
      "execution_count": 34,
      "outputs": [
        {
          "output_type": "stream",
          "text": [
            "Epoch 1/100\n",
            "12/12 [==============================] - 3s 251ms/step - loss: 0.0165 - val_loss: 0.0717\n",
            "Epoch 2/100\n",
            "12/12 [==============================] - 2s 179ms/step - loss: 0.0046 - val_loss: 0.0042\n",
            "Epoch 3/100\n",
            "12/12 [==============================] - 2s 178ms/step - loss: 0.0013 - val_loss: 0.0038\n",
            "Epoch 4/100\n",
            "12/12 [==============================] - 2s 181ms/step - loss: 8.3548e-04 - val_loss: 0.0063\n",
            "Epoch 5/100\n",
            "12/12 [==============================] - 2s 178ms/step - loss: 7.2356e-04 - val_loss: 0.0057\n",
            "Epoch 6/100\n",
            "12/12 [==============================] - 2s 179ms/step - loss: 6.4936e-04 - val_loss: 0.0040\n",
            "Epoch 7/100\n",
            "12/12 [==============================] - 2s 181ms/step - loss: 6.4600e-04 - val_loss: 0.0036\n",
            "Epoch 8/100\n",
            "12/12 [==============================] - 2s 178ms/step - loss: 6.1171e-04 - val_loss: 0.0040\n",
            "Epoch 9/100\n",
            "12/12 [==============================] - 2s 180ms/step - loss: 5.9809e-04 - val_loss: 0.0047\n",
            "Epoch 10/100\n",
            "12/12 [==============================] - 2s 181ms/step - loss: 6.0613e-04 - val_loss: 0.0041\n",
            "Epoch 11/100\n",
            "12/12 [==============================] - 2s 178ms/step - loss: 5.9555e-04 - val_loss: 0.0037\n",
            "Epoch 12/100\n",
            "12/12 [==============================] - 2s 181ms/step - loss: 5.6293e-04 - val_loss: 0.0050\n",
            "Epoch 13/100\n",
            "12/12 [==============================] - 2s 183ms/step - loss: 6.6901e-04 - val_loss: 0.0044\n",
            "Epoch 14/100\n",
            "12/12 [==============================] - 2s 183ms/step - loss: 5.5237e-04 - val_loss: 0.0032\n",
            "Epoch 15/100\n",
            "12/12 [==============================] - 2s 181ms/step - loss: 6.2031e-04 - val_loss: 0.0032\n",
            "Epoch 16/100\n",
            "12/12 [==============================] - 2s 182ms/step - loss: 5.7426e-04 - val_loss: 0.0030\n",
            "Epoch 17/100\n",
            "12/12 [==============================] - 2s 182ms/step - loss: 5.4728e-04 - val_loss: 0.0030\n",
            "Epoch 18/100\n",
            "12/12 [==============================] - 2s 185ms/step - loss: 5.4317e-04 - val_loss: 0.0029\n",
            "Epoch 19/100\n",
            "12/12 [==============================] - 2s 183ms/step - loss: 5.5393e-04 - val_loss: 0.0028\n",
            "Epoch 20/100\n",
            "12/12 [==============================] - 2s 183ms/step - loss: 5.0326e-04 - val_loss: 0.0027\n",
            "Epoch 21/100\n",
            "12/12 [==============================] - 2s 183ms/step - loss: 4.9352e-04 - val_loss: 0.0026\n",
            "Epoch 22/100\n",
            "12/12 [==============================] - 2s 185ms/step - loss: 5.2584e-04 - val_loss: 0.0025\n",
            "Epoch 23/100\n",
            "12/12 [==============================] - 2s 183ms/step - loss: 5.2302e-04 - val_loss: 0.0032\n",
            "Epoch 24/100\n",
            "12/12 [==============================] - 2s 183ms/step - loss: 4.7077e-04 - val_loss: 0.0024\n",
            "Epoch 25/100\n",
            "12/12 [==============================] - 2s 183ms/step - loss: 4.6354e-04 - val_loss: 0.0023\n",
            "Epoch 26/100\n",
            "12/12 [==============================] - 2s 183ms/step - loss: 4.6004e-04 - val_loss: 0.0023\n",
            "Epoch 27/100\n",
            "12/12 [==============================] - 2s 183ms/step - loss: 4.4276e-04 - val_loss: 0.0021\n",
            "Epoch 28/100\n",
            "12/12 [==============================] - 2s 183ms/step - loss: 4.1392e-04 - val_loss: 0.0020\n",
            "Epoch 29/100\n",
            "12/12 [==============================] - 2s 183ms/step - loss: 4.2028e-04 - val_loss: 0.0025\n",
            "Epoch 30/100\n",
            "12/12 [==============================] - 2s 184ms/step - loss: 4.3386e-04 - val_loss: 0.0018\n",
            "Epoch 31/100\n",
            "12/12 [==============================] - 2s 184ms/step - loss: 5.3808e-04 - val_loss: 0.0023\n",
            "Epoch 32/100\n",
            "12/12 [==============================] - 2s 185ms/step - loss: 4.6478e-04 - val_loss: 0.0030\n",
            "Epoch 33/100\n",
            "12/12 [==============================] - 2s 198ms/step - loss: 4.4845e-04 - val_loss: 0.0020\n",
            "Epoch 34/100\n",
            "12/12 [==============================] - 2s 196ms/step - loss: 3.8085e-04 - val_loss: 0.0017\n",
            "Epoch 35/100\n",
            "12/12 [==============================] - 2s 196ms/step - loss: 3.6812e-04 - val_loss: 0.0021\n",
            "Epoch 36/100\n",
            "12/12 [==============================] - 2s 196ms/step - loss: 3.6775e-04 - val_loss: 0.0016\n",
            "Epoch 37/100\n",
            "12/12 [==============================] - 2s 184ms/step - loss: 3.5789e-04 - val_loss: 0.0019\n",
            "Epoch 38/100\n",
            "12/12 [==============================] - 2s 182ms/step - loss: 3.5530e-04 - val_loss: 0.0014\n",
            "Epoch 39/100\n",
            "12/12 [==============================] - 2s 183ms/step - loss: 3.3948e-04 - val_loss: 0.0025\n",
            "Epoch 40/100\n",
            "12/12 [==============================] - 2s 185ms/step - loss: 3.5686e-04 - val_loss: 0.0016\n",
            "Epoch 41/100\n",
            "12/12 [==============================] - 2s 185ms/step - loss: 3.3543e-04 - val_loss: 0.0014\n",
            "Epoch 42/100\n",
            "12/12 [==============================] - 2s 183ms/step - loss: 3.3393e-04 - val_loss: 0.0015\n",
            "Epoch 43/100\n",
            "12/12 [==============================] - 2s 184ms/step - loss: 3.2593e-04 - val_loss: 0.0014\n",
            "Epoch 44/100\n",
            "12/12 [==============================] - 2s 183ms/step - loss: 3.2071e-04 - val_loss: 0.0027\n",
            "Epoch 45/100\n",
            "12/12 [==============================] - 2s 186ms/step - loss: 3.6461e-04 - val_loss: 0.0014\n",
            "Epoch 46/100\n",
            "12/12 [==============================] - 2s 183ms/step - loss: 3.1680e-04 - val_loss: 0.0013\n",
            "Epoch 47/100\n",
            "12/12 [==============================] - 2s 184ms/step - loss: 3.1680e-04 - val_loss: 0.0013\n",
            "Epoch 48/100\n",
            "12/12 [==============================] - 2s 184ms/step - loss: 3.1860e-04 - val_loss: 0.0015\n",
            "Epoch 49/100\n",
            "12/12 [==============================] - 2s 185ms/step - loss: 2.8773e-04 - val_loss: 0.0017\n",
            "Epoch 50/100\n",
            "12/12 [==============================] - 2s 187ms/step - loss: 2.8717e-04 - val_loss: 0.0014\n",
            "Epoch 51/100\n",
            "12/12 [==============================] - 2s 186ms/step - loss: 2.7634e-04 - val_loss: 0.0018\n",
            "Epoch 52/100\n",
            "12/12 [==============================] - 2s 183ms/step - loss: 2.7956e-04 - val_loss: 0.0014\n",
            "Epoch 53/100\n",
            "12/12 [==============================] - 2s 185ms/step - loss: 2.6549e-04 - val_loss: 0.0023\n",
            "Epoch 54/100\n",
            "12/12 [==============================] - 2s 188ms/step - loss: 3.1107e-04 - val_loss: 0.0014\n",
            "Epoch 55/100\n",
            "12/12 [==============================] - 2s 184ms/step - loss: 3.1803e-04 - val_loss: 0.0013\n",
            "Epoch 56/100\n",
            "12/12 [==============================] - 2s 185ms/step - loss: 2.8012e-04 - val_loss: 0.0016\n",
            "Epoch 57/100\n",
            "12/12 [==============================] - 2s 186ms/step - loss: 2.5468e-04 - val_loss: 0.0015\n",
            "Epoch 58/100\n",
            "12/12 [==============================] - 2s 183ms/step - loss: 2.5220e-04 - val_loss: 0.0013\n",
            "Epoch 59/100\n",
            "12/12 [==============================] - 2s 186ms/step - loss: 2.4214e-04 - val_loss: 0.0013\n",
            "Epoch 60/100\n",
            "12/12 [==============================] - 2s 183ms/step - loss: 2.5702e-04 - val_loss: 0.0020\n",
            "Epoch 61/100\n",
            "12/12 [==============================] - 2s 184ms/step - loss: 2.7236e-04 - val_loss: 0.0016\n",
            "Epoch 62/100\n",
            "12/12 [==============================] - 2s 183ms/step - loss: 2.5253e-04 - val_loss: 0.0013\n",
            "Epoch 63/100\n",
            "12/12 [==============================] - 2s 187ms/step - loss: 2.4739e-04 - val_loss: 0.0015\n",
            "Epoch 64/100\n",
            "12/12 [==============================] - 2s 183ms/step - loss: 2.3124e-04 - val_loss: 0.0012\n",
            "Epoch 65/100\n",
            "12/12 [==============================] - 2s 184ms/step - loss: 2.3541e-04 - val_loss: 0.0017\n",
            "Epoch 66/100\n",
            "12/12 [==============================] - 2s 185ms/step - loss: 2.3251e-04 - val_loss: 0.0015\n",
            "Epoch 67/100\n",
            "12/12 [==============================] - 2s 183ms/step - loss: 2.4036e-04 - val_loss: 0.0013\n",
            "Epoch 68/100\n",
            "12/12 [==============================] - 2s 187ms/step - loss: 2.2745e-04 - val_loss: 0.0021\n",
            "Epoch 69/100\n",
            "12/12 [==============================] - 2s 184ms/step - loss: 2.7875e-04 - val_loss: 0.0020\n",
            "Epoch 70/100\n",
            "12/12 [==============================] - 2s 185ms/step - loss: 3.0049e-04 - val_loss: 0.0018\n",
            "Epoch 71/100\n",
            "12/12 [==============================] - 2s 185ms/step - loss: 2.3482e-04 - val_loss: 0.0012\n",
            "Epoch 72/100\n",
            "12/12 [==============================] - 2s 187ms/step - loss: 2.0929e-04 - val_loss: 0.0011\n",
            "Epoch 73/100\n",
            "12/12 [==============================] - 2s 186ms/step - loss: 2.1015e-04 - val_loss: 0.0011\n",
            "Epoch 74/100\n",
            "12/12 [==============================] - 2s 185ms/step - loss: 2.0444e-04 - val_loss: 0.0013\n",
            "Epoch 75/100\n",
            "12/12 [==============================] - 2s 183ms/step - loss: 2.2265e-04 - val_loss: 0.0013\n",
            "Epoch 76/100\n",
            "12/12 [==============================] - 2s 187ms/step - loss: 1.9924e-04 - val_loss: 0.0011\n",
            "Epoch 77/100\n",
            "12/12 [==============================] - 2s 184ms/step - loss: 1.9130e-04 - val_loss: 0.0011\n",
            "Epoch 78/100\n",
            "12/12 [==============================] - 2s 185ms/step - loss: 1.8479e-04 - val_loss: 0.0011\n",
            "Epoch 79/100\n",
            "12/12 [==============================] - 2s 184ms/step - loss: 1.8852e-04 - val_loss: 0.0011\n",
            "Epoch 80/100\n",
            "12/12 [==============================] - 2s 184ms/step - loss: 1.8101e-04 - val_loss: 0.0011\n",
            "Epoch 81/100\n",
            "12/12 [==============================] - 2s 185ms/step - loss: 1.7090e-04 - val_loss: 0.0011\n",
            "Epoch 82/100\n",
            "12/12 [==============================] - 2s 184ms/step - loss: 1.7269e-04 - val_loss: 0.0011\n",
            "Epoch 83/100\n",
            "12/12 [==============================] - 2s 182ms/step - loss: 1.7099e-04 - val_loss: 0.0011\n",
            "Epoch 84/100\n",
            "12/12 [==============================] - 2s 185ms/step - loss: 1.7965e-04 - val_loss: 0.0011\n",
            "Epoch 85/100\n",
            "12/12 [==============================] - 2s 184ms/step - loss: 1.6571e-04 - val_loss: 0.0011\n",
            "Epoch 86/100\n",
            "12/12 [==============================] - 2s 187ms/step - loss: 1.7980e-04 - val_loss: 0.0010\n",
            "Epoch 87/100\n",
            "12/12 [==============================] - 2s 185ms/step - loss: 1.6661e-04 - val_loss: 0.0015\n",
            "Epoch 88/100\n",
            "12/12 [==============================] - 2s 184ms/step - loss: 1.9123e-04 - val_loss: 0.0011\n",
            "Epoch 89/100\n",
            "12/12 [==============================] - 2s 184ms/step - loss: 1.6305e-04 - val_loss: 0.0012\n",
            "Epoch 90/100\n",
            "12/12 [==============================] - 2s 183ms/step - loss: 1.8835e-04 - val_loss: 0.0012\n",
            "Epoch 91/100\n",
            "12/12 [==============================] - 2s 184ms/step - loss: 1.6597e-04 - val_loss: 0.0011\n",
            "Epoch 92/100\n",
            "12/12 [==============================] - 2s 185ms/step - loss: 1.5628e-04 - val_loss: 9.8390e-04\n",
            "Epoch 93/100\n",
            "12/12 [==============================] - 2s 185ms/step - loss: 1.5026e-04 - val_loss: 0.0010\n",
            "Epoch 94/100\n",
            "12/12 [==============================] - 2s 185ms/step - loss: 1.4697e-04 - val_loss: 0.0012\n",
            "Epoch 95/100\n",
            "12/12 [==============================] - 2s 188ms/step - loss: 1.4824e-04 - val_loss: 9.7610e-04\n",
            "Epoch 96/100\n",
            "12/12 [==============================] - 2s 184ms/step - loss: 1.7614e-04 - val_loss: 0.0012\n",
            "Epoch 97/100\n",
            "12/12 [==============================] - 2s 184ms/step - loss: 1.7643e-04 - val_loss: 0.0013\n",
            "Epoch 98/100\n",
            "12/12 [==============================] - 2s 186ms/step - loss: 1.6515e-04 - val_loss: 0.0012\n",
            "Epoch 99/100\n",
            "12/12 [==============================] - 2s 186ms/step - loss: 1.6434e-04 - val_loss: 0.0011\n",
            "Epoch 100/100\n",
            "12/12 [==============================] - 2s 185ms/step - loss: 1.4439e-04 - val_loss: 9.0758e-04\n"
          ],
          "name": "stdout"
        },
        {
          "output_type": "execute_result",
          "data": {
            "text/plain": [
              "<tensorflow.python.keras.callbacks.History at 0x7f4bb8a3a978>"
            ]
          },
          "metadata": {
            "tags": []
          },
          "execution_count": 34
        }
      ]
    },
    {
      "cell_type": "code",
      "metadata": {
        "id": "uNNTRCqBYWAJ",
        "colab_type": "code",
        "colab": {}
      },
      "source": [
        "import tensorflow as tf\n"
      ],
      "execution_count": 35,
      "outputs": []
    },
    {
      "cell_type": "code",
      "metadata": {
        "id": "iwKUUZXBYYOP",
        "colab_type": "code",
        "colab": {
          "base_uri": "https://localhost:8080/",
          "height": 34
        },
        "outputId": "195518fa-1feb-4e5d-abd6-f666585b9019"
      },
      "source": [
        "tf.__version__"
      ],
      "execution_count": 36,
      "outputs": [
        {
          "output_type": "execute_result",
          "data": {
            "text/plain": [
              "'2.2.0'"
            ]
          },
          "metadata": {
            "tags": []
          },
          "execution_count": 36
        }
      ]
    },
    {
      "cell_type": "code",
      "metadata": {
        "id": "_WD41vrPYbZX",
        "colab_type": "code",
        "colab": {}
      },
      "source": [
        "### Lets Do the prediction and check performance metrics\n",
        "train_predict=model.predict(X_train)\n",
        "test_predict=model.predict(X_test)"
      ],
      "execution_count": 37,
      "outputs": []
    },
    {
      "cell_type": "code",
      "metadata": {
        "id": "6nXR1qmPYfSb",
        "colab_type": "code",
        "colab": {}
      },
      "source": [
        "##Transformback to original form\n",
        "train_predict=scaler.inverse_transform(train_predict)\n",
        "test_predict=scaler.inverse_transform(test_predict)"
      ],
      "execution_count": 38,
      "outputs": []
    },
    {
      "cell_type": "code",
      "metadata": {
        "id": "E-VXtNpyYjp4",
        "colab_type": "code",
        "colab": {
          "base_uri": "https://localhost:8080/",
          "height": 34
        },
        "outputId": "b94e56d7-df6c-4174-adf8-17fdde456b57"
      },
      "source": [
        "### Calculate RMSE performance metrics\n",
        "import math\n",
        "from sklearn.metrics import mean_squared_error\n",
        "math.sqrt(mean_squared_error(y_train,train_predict))"
      ],
      "execution_count": 39,
      "outputs": [
        {
          "output_type": "execute_result",
          "data": {
            "text/plain": [
              "141.72379592208645"
            ]
          },
          "metadata": {
            "tags": []
          },
          "execution_count": 39
        }
      ]
    },
    {
      "cell_type": "code",
      "metadata": {
        "id": "5jYYCVFeYnFd",
        "colab_type": "code",
        "colab": {
          "base_uri": "https://localhost:8080/",
          "height": 34
        },
        "outputId": "7d68f483-bf85-4d50-813c-41f5036bf159"
      },
      "source": [
        "### Test Data RMSE\n",
        "math.sqrt(mean_squared_error(ytest,test_predict))"
      ],
      "execution_count": 40,
      "outputs": [
        {
          "output_type": "execute_result",
          "data": {
            "text/plain": [
              "237.1390277974147"
            ]
          },
          "metadata": {
            "tags": []
          },
          "execution_count": 40
        }
      ]
    },
    {
      "cell_type": "code",
      "metadata": {
        "id": "5anaMxRyYrD4",
        "colab_type": "code",
        "colab": {
          "base_uri": "https://localhost:8080/",
          "height": 265
        },
        "outputId": "ecc1537b-fe60-4fd9-b894-82efad93f342"
      },
      "source": [
        "### Plotting \n",
        "# shift train predictions for plotting\n",
        "look_back=100\n",
        "trainPredictPlot = numpy.empty_like(df1)\n",
        "trainPredictPlot[:, :] = np.nan\n",
        "trainPredictPlot[look_back:len(train_predict)+look_back, :] = train_predict\n",
        "# shift test predictions for plotting\n",
        "testPredictPlot = numpy.empty_like(df1)\n",
        "testPredictPlot[:, :] = numpy.nan\n",
        "testPredictPlot[len(train_predict)+(look_back*2)+1:len(df1)-1, :] = test_predict\n",
        "# plot baseline and predictions\n",
        "plt.plot(scaler.inverse_transform(df1))\n",
        "plt.plot(trainPredictPlot)\n",
        "plt.plot(testPredictPlot)\n",
        "plt.show()"
      ],
      "execution_count": 41,
      "outputs": [
        {
          "output_type": "display_data",
          "data": {
            "image/png": "[encoded data removed]",
            "text/plain": [
              "<Figure size 432x288 with 1 Axes>"
            ]
          },
          "metadata": {
            "tags": [],
            "needs_background": "light"
          }
        }
      ]
    },
    {
      "cell_type": "code",
      "metadata": {
        "id": "6ntT-BmcYuzS",
        "colab_type": "code",
        "colab": {
          "base_uri": "https://localhost:8080/",
          "height": 34
        },
        "outputId": "902132e2-e08d-41aa-b9b3-a93c42ecc875"
      },
      "source": [
        "len(test_data)"
      ],
      "execution_count": 42,
      "outputs": [
        {
          "output_type": "execute_result",
          "data": {
            "text/plain": [
              "441"
            ]
          },
          "metadata": {
            "tags": []
          },
          "execution_count": 42
        }
      ]
    },
    {
      "cell_type": "code",
      "metadata": {
        "id": "SAFqXFSTYzrU",
        "colab_type": "code",
        "colab": {
          "base_uri": "https://localhost:8080/",
          "height": 34
        },
        "outputId": "5acfdcb3-230c-4af4-a350-e43eff035f34"
      },
      "source": [
        "x_input=test_data[341:].reshape(1,-1)\n",
        "x_input.shape"
      ],
      "execution_count": 43,
      "outputs": [
        {
          "output_type": "execute_result",
          "data": {
            "text/plain": [
              "(1, 100)"
            ]
          },
          "metadata": {
            "tags": []
          },
          "execution_count": 43
        }
      ]
    },
    {
      "cell_type": "code",
      "metadata": {
        "id": "K6kDHl4KY3rX",
        "colab_type": "code",
        "colab": {}
      },
      "source": [
        "temp_input=list(x_input)\n",
        "temp_input=temp_input[0].tolist()"
      ],
      "execution_count": 44,
      "outputs": []
    },
    {
      "cell_type": "code",
      "metadata": {
        "id": "CQoqNsm1Y7Sj",
        "colab_type": "code",
        "colab": {
          "base_uri": "https://localhost:8080/",
          "height": 1000
        },
        "outputId": "4efa36ef-e2ac-47dd-9100-c637899f6810"
      },
      "source": [
        "temp_input"
      ],
      "execution_count": 45,
      "outputs": [
        {
          "output_type": "execute_result",
          "data": {
            "text/plain": [
              "[0.8583551465000423,\n",
              " 0.8866418981676942,\n",
              " 0.8743139407244789,\n",
              " 0.8843198513890065,\n",
              " 0.8783669678290975,\n",
              " 0.8986321033521913,\n",
              " 0.925821160179009,\n",
              " 0.9287764924427933,\n",
              " 0.9567677108840666,\n",
              " 0.9386979650426415,\n",
              " 0.933040614709111,\n",
              " 0.9495060373216249,\n",
              " 0.9642404796082076,\n",
              " 0.9551211686228154,\n",
              " 0.9598919192772104,\n",
              " 0.9663514312251966,\n",
              " 0.9624672802499368,\n",
              " 0.9229502659799038,\n",
              " 0.9598497002448705,\n",
              " 0.9879253567508233,\n",
              " 0.985941062230854,\n",
              " 0.9253145317909315,\n",
              " 0.9217259140420504,\n",
              " 0.964747107996285,\n",
              " 0.9757240564046274,\n",
              " 0.9915984125643842,\n",
              " 0.9697289538123788,\n",
              " 0.9761462467280253,\n",
              " 0.9679557544541082,\n",
              " 1.0000000000000002,\n",
              " 0.9901629654648318,\n",
              " 0.9905007177235499,\n",
              " 0.9653803934813816,\n",
              " 0.9848855864223593,\n",
              " 0.9708688676855528,\n",
              " 0.9402600692392133,\n",
              " 0.8774803681499621,\n",
              " 0.8348391454867856,\n",
              " 0.8541332432660644,\n",
              " 0.7733682344000676,\n",
              " 0.7726927298826314,\n",
              " 0.8801401671873683,\n",
              " 0.8400743054969182,\n",
              " 0.8967322468969012,\n",
              " 0.8552731571392387,\n",
              " 0.8388499535590646,\n",
              " 0.7423372456303303,\n",
              " 0.8232711306256861,\n",
              " 0.7814320695769654,\n",
              " 0.6665963016127672,\n",
              " 0.7921557037912694,\n",
              " 0.6411804441442204,\n",
              " 0.6861437135860848,\n",
              " 0.6600101325677616,\n",
              " 0.6520307354555435,\n",
              " 0.5864223591995272,\n",
              " 0.5658616904500551,\n",
              " 0.660896732246897,\n",
              " 0.6551549438486872,\n",
              " 0.7097019336316812,\n",
              " 0.664527569028118,\n",
              " 0.6943764248923416,\n",
              " 0.692181035210673,\n",
              " 0.6356919699400492,\n",
              " 0.6526640209406402,\n",
              " 0.637802921557038,\n",
              " 0.7267162036646122,\n",
              " 0.7138816178333194,\n",
              " 0.7419150553069325,\n",
              " 0.7500211095161702,\n",
              " 0.7722283205268936,\n",
              " 0.8304905851557884,\n",
              " 0.8194291986827664,\n",
              " 0.8289706999915563,\n",
              " 0.8125474964113824,\n",
              " 0.7877649244279323,\n",
              " 0.7516254327450818,\n",
              " 0.7842607447437306,\n",
              " 0.7797433082833742,\n",
              " 0.8132652199611587,\n",
              " 0.8141096006079542,\n",
              " 0.7947310647639958,\n",
              " 0.8333614793548934,\n",
              " 0.8589884319851391,\n",
              " 0.8390188296884238,\n",
              " 0.8562864139153934,\n",
              " 0.8748627881448958,\n",
              " 0.887824031073208,\n",
              " 0.9009541501308793,\n",
              " 0.9279321117959978,\n",
              " 0.9485349995778098,\n",
              " 0.9333361479354896,\n",
              " 0.9174617917757326,\n",
              " 0.925441188887951,\n",
              " 0.9177151059697712,\n",
              " 0.9483239044161109,\n",
              " 0.9406400405302711,\n",
              " 0.9663514312251966,\n",
              " 0.9563033015283293,\n",
              " 0.964915984125644]"
            ]
          },
          "metadata": {
            "tags": []
          },
          "execution_count": 45
        }
      ]
    },
    {
      "cell_type": "code",
      "metadata": {
        "id": "cNjdiCzUY984",
        "colab_type": "code",
        "colab": {
          "base_uri": "https://localhost:8080/",
          "height": 1000
        },
        "outputId": "249ee6fe-207f-4b6f-f3d1-79c7fb2a9d24"
      },
      "source": [
        "# demonstrate prediction for next 10 days\n",
        "from numpy import array\n",
        "\n",
        "lst_output=[]\n",
        "n_steps=100\n",
        "i=0\n",
        "while(i<30):\n",
        "    \n",
        "    if(len(temp_input)>100):\n",
        "        #print(temp_input)\n",
        "        x_input=np.array(temp_input[1:])\n",
        "        print(\"{} day input {}\".format(i,x_input))\n",
        "        x_input=x_input.reshape(1,-1)\n",
        "        x_input = x_input.reshape((1, n_steps, 1))\n",
        "        #print(x_input)\n",
        "        yhat = model.predict(x_input, verbose=0)\n",
        "        print(\"{} day output {}\".format(i,yhat))\n",
        "        temp_input.extend(yhat[0].tolist())\n",
        "        temp_input=temp_input[1:]\n",
        "        #print(temp_input)\n",
        "        lst_output.extend(yhat.tolist())\n",
        "        i=i+1\n",
        "    else:\n",
        "        x_input = x_input.reshape((1, n_steps,1))\n",
        "        yhat = model.predict(x_input, verbose=0)\n",
        "        print(yhat[0])\n",
        "        temp_input.extend(yhat[0].tolist())\n",
        "        print(len(temp_input))\n",
        "        lst_output.extend(yhat.tolist())\n",
        "        i=i+1\n",
        "    \n",
        "\n",
        "print(lst_output)"
      ],
      "execution_count": 46,
      "outputs": [
        {
          "output_type": "stream",
          "text": [
            "[0.9443274]\n",
            "101\n",
            "1 day input [0.8866419  0.87431394 0.88431985 0.87836697 0.8986321  0.92582116\n",
            " 0.92877649 0.95676771 0.93869797 0.93304061 0.94950604 0.96424048\n",
            " 0.95512117 0.95989192 0.96635143 0.96246728 0.92295027 0.9598497\n",
            " 0.98792536 0.98594106 0.92531453 0.92172591 0.96474711 0.97572406\n",
            " 0.99159841 0.96972895 0.97614625 0.96795575 1.         0.99016297\n",
            " 0.99050072 0.96538039 0.98488559 0.97086887 0.94026007 0.87748037\n",
            " 0.83483915 0.85413324 0.77336823 0.77269273 0.88014017 0.84007431\n",
            " 0.89673225 0.85527316 0.83884995 0.74233725 0.82327113 0.78143207\n",
            " 0.6665963  0.7921557  0.64118044 0.68614371 0.66001013 0.65203074\n",
            " 0.58642236 0.56586169 0.66089673 0.65515494 0.70970193 0.66452757\n",
            " 0.69437642 0.69218104 0.63569197 0.65266402 0.63780292 0.7267162\n",
            " 0.71388162 0.74191506 0.75002111 0.77222832 0.83049059 0.8194292\n",
            " 0.8289707  0.8125475  0.78776492 0.75162543 0.78426074 0.77974331\n",
            " 0.81326522 0.8141096  0.79473106 0.83336148 0.85898843 0.83901883\n",
            " 0.85628641 0.87486279 0.88782403 0.90095415 0.92793211 0.948535\n",
            " 0.93333615 0.91746179 0.92544119 0.91771511 0.9483239  0.94064004\n",
            " 0.96635143 0.9563033  0.96491598 0.94432741]\n",
            "1 day output [[0.9428087]]\n",
            "2 day input [0.87431394 0.88431985 0.87836697 0.8986321  0.92582116 0.92877649\n",
            " 0.95676771 0.93869797 0.93304061 0.94950604 0.96424048 0.95512117\n",
            " 0.95989192 0.96635143 0.96246728 0.92295027 0.9598497  0.98792536\n",
            " 0.98594106 0.92531453 0.92172591 0.96474711 0.97572406 0.99159841\n",
            " 0.96972895 0.97614625 0.96795575 1.         0.99016297 0.99050072\n",
            " 0.96538039 0.98488559 0.97086887 0.94026007 0.87748037 0.83483915\n",
            " 0.85413324 0.77336823 0.77269273 0.88014017 0.84007431 0.89673225\n",
            " 0.85527316 0.83884995 0.74233725 0.82327113 0.78143207 0.6665963\n",
            " 0.7921557  0.64118044 0.68614371 0.66001013 0.65203074 0.58642236\n",
            " 0.56586169 0.66089673 0.65515494 0.70970193 0.66452757 0.69437642\n",
            " 0.69218104 0.63569197 0.65266402 0.63780292 0.7267162  0.71388162\n",
            " 0.74191506 0.75002111 0.77222832 0.83049059 0.8194292  0.8289707\n",
            " 0.8125475  0.78776492 0.75162543 0.78426074 0.77974331 0.81326522\n",
            " 0.8141096  0.79473106 0.83336148 0.85898843 0.83901883 0.85628641\n",
            " 0.87486279 0.88782403 0.90095415 0.92793211 0.948535   0.93333615\n",
            " 0.91746179 0.92544119 0.91771511 0.9483239  0.94064004 0.96635143\n",
            " 0.9563033  0.96491598 0.94432741 0.94280869]\n",
            "2 day output [[0.939328]]\n",
            "3 day input [0.88431985 0.87836697 0.8986321  0.92582116 0.92877649 0.95676771\n",
            " 0.93869797 0.93304061 0.94950604 0.96424048 0.95512117 0.95989192\n",
            " 0.96635143 0.96246728 0.92295027 0.9598497  0.98792536 0.98594106\n",
            " 0.92531453 0.92172591 0.96474711 0.97572406 0.99159841 0.96972895\n",
            " 0.97614625 0.96795575 1.         0.99016297 0.99050072 0.96538039\n",
            " 0.98488559 0.97086887 0.94026007 0.87748037 0.83483915 0.85413324\n",
            " 0.77336823 0.77269273 0.88014017 0.84007431 0.89673225 0.85527316\n",
            " 0.83884995 0.74233725 0.82327113 0.78143207 0.6665963  0.7921557\n",
            " 0.64118044 0.68614371 0.66001013 0.65203074 0.58642236 0.56586169\n",
            " 0.66089673 0.65515494 0.70970193 0.66452757 0.69437642 0.69218104\n",
            " 0.63569197 0.65266402 0.63780292 0.7267162  0.71388162 0.74191506\n",
            " 0.75002111 0.77222832 0.83049059 0.8194292  0.8289707  0.8125475\n",
            " 0.78776492 0.75162543 0.78426074 0.77974331 0.81326522 0.8141096\n",
            " 0.79473106 0.83336148 0.85898843 0.83901883 0.85628641 0.87486279\n",
            " 0.88782403 0.90095415 0.92793211 0.948535   0.93333615 0.91746179\n",
            " 0.92544119 0.91771511 0.9483239  0.94064004 0.96635143 0.9563033\n",
            " 0.96491598 0.94432741 0.94280869 0.93932801]\n",
            "3 day output [[0.93603253]]\n",
            "4 day input [0.87836697 0.8986321  0.92582116 0.92877649 0.95676771 0.93869797\n",
            " 0.93304061 0.94950604 0.96424048 0.95512117 0.95989192 0.96635143\n",
            " 0.96246728 0.92295027 0.9598497  0.98792536 0.98594106 0.92531453\n",
            " 0.92172591 0.96474711 0.97572406 0.99159841 0.96972895 0.97614625\n",
            " 0.96795575 1.         0.99016297 0.99050072 0.96538039 0.98488559\n",
            " 0.97086887 0.94026007 0.87748037 0.83483915 0.85413324 0.77336823\n",
            " 0.77269273 0.88014017 0.84007431 0.89673225 0.85527316 0.83884995\n",
            " 0.74233725 0.82327113 0.78143207 0.6665963  0.7921557  0.64118044\n",
            " 0.68614371 0.66001013 0.65203074 0.58642236 0.56586169 0.66089673\n",
            " 0.65515494 0.70970193 0.66452757 0.69437642 0.69218104 0.63569197\n",
            " 0.65266402 0.63780292 0.7267162  0.71388162 0.74191506 0.75002111\n",
            " 0.77222832 0.83049059 0.8194292  0.8289707  0.8125475  0.78776492\n",
            " 0.75162543 0.78426074 0.77974331 0.81326522 0.8141096  0.79473106\n",
            " 0.83336148 0.85898843 0.83901883 0.85628641 0.87486279 0.88782403\n",
            " 0.90095415 0.92793211 0.948535   0.93333615 0.91746179 0.92544119\n",
            " 0.91771511 0.9483239  0.94064004 0.96635143 0.9563033  0.96491598\n",
            " 0.94432741 0.94280869 0.93932801 0.93603253]\n",
            "4 day output [[0.9334402]]\n",
            "5 day input [0.8986321  0.92582116 0.92877649 0.95676771 0.93869797 0.93304061\n",
            " 0.94950604 0.96424048 0.95512117 0.95989192 0.96635143 0.96246728\n",
            " 0.92295027 0.9598497  0.98792536 0.98594106 0.92531453 0.92172591\n",
            " 0.96474711 0.97572406 0.99159841 0.96972895 0.97614625 0.96795575\n",
            " 1.         0.99016297 0.99050072 0.96538039 0.98488559 0.97086887\n",
            " 0.94026007 0.87748037 0.83483915 0.85413324 0.77336823 0.77269273\n",
            " 0.88014017 0.84007431 0.89673225 0.85527316 0.83884995 0.74233725\n",
            " 0.82327113 0.78143207 0.6665963  0.7921557  0.64118044 0.68614371\n",
            " 0.66001013 0.65203074 0.58642236 0.56586169 0.66089673 0.65515494\n",
            " 0.70970193 0.66452757 0.69437642 0.69218104 0.63569197 0.65266402\n",
            " 0.63780292 0.7267162  0.71388162 0.74191506 0.75002111 0.77222832\n",
            " 0.83049059 0.8194292  0.8289707  0.8125475  0.78776492 0.75162543\n",
            " 0.78426074 0.77974331 0.81326522 0.8141096  0.79473106 0.83336148\n",
            " 0.85898843 0.83901883 0.85628641 0.87486279 0.88782403 0.90095415\n",
            " 0.92793211 0.948535   0.93333615 0.91746179 0.92544119 0.91771511\n",
            " 0.9483239  0.94064004 0.96635143 0.9563033  0.96491598 0.94432741\n",
            " 0.94280869 0.93932801 0.93603253 0.93344021]\n",
            "5 day output [[0.9316541]]\n",
            "6 day input [0.92582116 0.92877649 0.95676771 0.93869797 0.93304061 0.94950604\n",
            " 0.96424048 0.95512117 0.95989192 0.96635143 0.96246728 0.92295027\n",
            " 0.9598497  0.98792536 0.98594106 0.92531453 0.92172591 0.96474711\n",
            " 0.97572406 0.99159841 0.96972895 0.97614625 0.96795575 1.\n",
            " 0.99016297 0.99050072 0.96538039 0.98488559 0.97086887 0.94026007\n",
            " 0.87748037 0.83483915 0.85413324 0.77336823 0.77269273 0.88014017\n",
            " 0.84007431 0.89673225 0.85527316 0.83884995 0.74233725 0.82327113\n",
            " 0.78143207 0.6665963  0.7921557  0.64118044 0.68614371 0.66001013\n",
            " 0.65203074 0.58642236 0.56586169 0.66089673 0.65515494 0.70970193\n",
            " 0.66452757 0.69437642 0.69218104 0.63569197 0.65266402 0.63780292\n",
            " 0.7267162  0.71388162 0.74191506 0.75002111 0.77222832 0.83049059\n",
            " 0.8194292  0.8289707  0.8125475  0.78776492 0.75162543 0.78426074\n",
            " 0.77974331 0.81326522 0.8141096  0.79473106 0.83336148 0.85898843\n",
            " 0.83901883 0.85628641 0.87486279 0.88782403 0.90095415 0.92793211\n",
            " 0.948535   0.93333615 0.91746179 0.92544119 0.91771511 0.9483239\n",
            " 0.94064004 0.96635143 0.9563033  0.96491598 0.94432741 0.94280869\n",
            " 0.93932801 0.93603253 0.93344021 0.9316541 ]\n",
            "6 day output [[0.9306517]]\n",
            "7 day input [0.92877649 0.95676771 0.93869797 0.93304061 0.94950604 0.96424048\n",
            " 0.95512117 0.95989192 0.96635143 0.96246728 0.92295027 0.9598497\n",
            " 0.98792536 0.98594106 0.92531453 0.92172591 0.96474711 0.97572406\n",
            " 0.99159841 0.96972895 0.97614625 0.96795575 1.         0.99016297\n",
            " 0.99050072 0.96538039 0.98488559 0.97086887 0.94026007 0.87748037\n",
            " 0.83483915 0.85413324 0.77336823 0.77269273 0.88014017 0.84007431\n",
            " 0.89673225 0.85527316 0.83884995 0.74233725 0.82327113 0.78143207\n",
            " 0.6665963  0.7921557  0.64118044 0.68614371 0.66001013 0.65203074\n",
            " 0.58642236 0.56586169 0.66089673 0.65515494 0.70970193 0.66452757\n",
            " 0.69437642 0.69218104 0.63569197 0.65266402 0.63780292 0.7267162\n",
            " 0.71388162 0.74191506 0.75002111 0.77222832 0.83049059 0.8194292\n",
            " 0.8289707  0.8125475  0.78776492 0.75162543 0.78426074 0.77974331\n",
            " 0.81326522 0.8141096  0.79473106 0.83336148 0.85898843 0.83901883\n",
            " 0.85628641 0.87486279 0.88782403 0.90095415 0.92793211 0.948535\n",
            " 0.93333615 0.91746179 0.92544119 0.91771511 0.9483239  0.94064004\n",
            " 0.96635143 0.9563033  0.96491598 0.94432741 0.94280869 0.93932801\n",
            " 0.93603253 0.93344021 0.9316541  0.93065172]\n",
            "7 day output [[0.93034476]]\n",
            "8 day input [0.95676771 0.93869797 0.93304061 0.94950604 0.96424048 0.95512117\n",
            " 0.95989192 0.96635143 0.96246728 0.92295027 0.9598497  0.98792536\n",
            " 0.98594106 0.92531453 0.92172591 0.96474711 0.97572406 0.99159841\n",
            " 0.96972895 0.97614625 0.96795575 1.         0.99016297 0.99050072\n",
            " 0.96538039 0.98488559 0.97086887 0.94026007 0.87748037 0.83483915\n",
            " 0.85413324 0.77336823 0.77269273 0.88014017 0.84007431 0.89673225\n",
            " 0.85527316 0.83884995 0.74233725 0.82327113 0.78143207 0.6665963\n",
            " 0.7921557  0.64118044 0.68614371 0.66001013 0.65203074 0.58642236\n",
            " 0.56586169 0.66089673 0.65515494 0.70970193 0.66452757 0.69437642\n",
            " 0.69218104 0.63569197 0.65266402 0.63780292 0.7267162  0.71388162\n",
            " 0.74191506 0.75002111 0.77222832 0.83049059 0.8194292  0.8289707\n",
            " 0.8125475  0.78776492 0.75162543 0.78426074 0.77974331 0.81326522\n",
            " 0.8141096  0.79473106 0.83336148 0.85898843 0.83901883 0.85628641\n",
            " 0.87486279 0.88782403 0.90095415 0.92793211 0.948535   0.93333615\n",
            " 0.91746179 0.92544119 0.91771511 0.9483239  0.94064004 0.96635143\n",
            " 0.9563033  0.96491598 0.94432741 0.94280869 0.93932801 0.93603253\n",
            " 0.93344021 0.9316541  0.93065172 0.93034476]\n",
            "8 day output [[0.9306065]]\n",
            "9 day input [0.93869797 0.93304061 0.94950604 0.96424048 0.95512117 0.95989192\n",
            " 0.96635143 0.96246728 0.92295027 0.9598497  0.98792536 0.98594106\n",
            " 0.92531453 0.92172591 0.96474711 0.97572406 0.99159841 0.96972895\n",
            " 0.97614625 0.96795575 1.         0.99016297 0.99050072 0.96538039\n",
            " 0.98488559 0.97086887 0.94026007 0.87748037 0.83483915 0.85413324\n",
            " 0.77336823 0.77269273 0.88014017 0.84007431 0.89673225 0.85527316\n",
            " 0.83884995 0.74233725 0.82327113 0.78143207 0.6665963  0.7921557\n",
            " 0.64118044 0.68614371 0.66001013 0.65203074 0.58642236 0.56586169\n",
            " 0.66089673 0.65515494 0.70970193 0.66452757 0.69437642 0.69218104\n",
            " 0.63569197 0.65266402 0.63780292 0.7267162  0.71388162 0.74191506\n",
            " 0.75002111 0.77222832 0.83049059 0.8194292  0.8289707  0.8125475\n",
            " 0.78776492 0.75162543 0.78426074 0.77974331 0.81326522 0.8141096\n",
            " 0.79473106 0.83336148 0.85898843 0.83901883 0.85628641 0.87486279\n",
            " 0.88782403 0.90095415 0.92793211 0.948535   0.93333615 0.91746179\n",
            " 0.92544119 0.91771511 0.9483239  0.94064004 0.96635143 0.9563033\n",
            " 0.96491598 0.94432741 0.94280869 0.93932801 0.93603253 0.93344021\n",
            " 0.9316541  0.93065172 0.93034476 0.93060648]\n",
            "9 day output [[0.9312937]]\n",
            "10 day input [0.93304061 0.94950604 0.96424048 0.95512117 0.95989192 0.96635143\n",
            " 0.96246728 0.92295027 0.9598497  0.98792536 0.98594106 0.92531453\n",
            " 0.92172591 0.96474711 0.97572406 0.99159841 0.96972895 0.97614625\n",
            " 0.96795575 1.         0.99016297 0.99050072 0.96538039 0.98488559\n",
            " 0.97086887 0.94026007 0.87748037 0.83483915 0.85413324 0.77336823\n",
            " 0.77269273 0.88014017 0.84007431 0.89673225 0.85527316 0.83884995\n",
            " 0.74233725 0.82327113 0.78143207 0.6665963  0.7921557  0.64118044\n",
            " 0.68614371 0.66001013 0.65203074 0.58642236 0.56586169 0.66089673\n",
            " 0.65515494 0.70970193 0.66452757 0.69437642 0.69218104 0.63569197\n",
            " 0.65266402 0.63780292 0.7267162  0.71388162 0.74191506 0.75002111\n",
            " 0.77222832 0.83049059 0.8194292  0.8289707  0.8125475  0.78776492\n",
            " 0.75162543 0.78426074 0.77974331 0.81326522 0.8141096  0.79473106\n",
            " 0.83336148 0.85898843 0.83901883 0.85628641 0.87486279 0.88782403\n",
            " 0.90095415 0.92793211 0.948535   0.93333615 0.91746179 0.92544119\n",
            " 0.91771511 0.9483239  0.94064004 0.96635143 0.9563033  0.96491598\n",
            " 0.94432741 0.94280869 0.93932801 0.93603253 0.93344021 0.9316541\n",
            " 0.93065172 0.93034476 0.93060648 0.93129373]\n",
            "10 day output [[0.9322646]]\n",
            "11 day input [0.94950604 0.96424048 0.95512117 0.95989192 0.96635143 0.96246728\n",
            " 0.92295027 0.9598497  0.98792536 0.98594106 0.92531453 0.92172591\n",
            " 0.96474711 0.97572406 0.99159841 0.96972895 0.97614625 0.96795575\n",
            " 1.         0.99016297 0.99050072 0.96538039 0.98488559 0.97086887\n",
            " 0.94026007 0.87748037 0.83483915 0.85413324 0.77336823 0.77269273\n",
            " 0.88014017 0.84007431 0.89673225 0.85527316 0.83884995 0.74233725\n",
            " 0.82327113 0.78143207 0.6665963  0.7921557  0.64118044 0.68614371\n",
            " 0.66001013 0.65203074 0.58642236 0.56586169 0.66089673 0.65515494\n",
            " 0.70970193 0.66452757 0.69437642 0.69218104 0.63569197 0.65266402\n",
            " 0.63780292 0.7267162  0.71388162 0.74191506 0.75002111 0.77222832\n",
            " 0.83049059 0.8194292  0.8289707  0.8125475  0.78776492 0.75162543\n",
            " 0.78426074 0.77974331 0.81326522 0.8141096  0.79473106 0.83336148\n",
            " 0.85898843 0.83901883 0.85628641 0.87486279 0.88782403 0.90095415\n",
            " 0.92793211 0.948535   0.93333615 0.91746179 0.92544119 0.91771511\n",
            " 0.9483239  0.94064004 0.96635143 0.9563033  0.96491598 0.94432741\n",
            " 0.94280869 0.93932801 0.93603253 0.93344021 0.9316541  0.93065172\n",
            " 0.93034476 0.93060648 0.93129373 0.93226463]\n",
            "11 day output [[0.93339187]]\n",
            "12 day input [0.96424048 0.95512117 0.95989192 0.96635143 0.96246728 0.92295027\n",
            " 0.9598497  0.98792536 0.98594106 0.92531453 0.92172591 0.96474711\n",
            " 0.97572406 0.99159841 0.96972895 0.97614625 0.96795575 1.\n",
            " 0.99016297 0.99050072 0.96538039 0.98488559 0.97086887 0.94026007\n",
            " 0.87748037 0.83483915 0.85413324 0.77336823 0.77269273 0.88014017\n",
            " 0.84007431 0.89673225 0.85527316 0.83884995 0.74233725 0.82327113\n",
            " 0.78143207 0.6665963  0.7921557  0.64118044 0.68614371 0.66001013\n",
            " 0.65203074 0.58642236 0.56586169 0.66089673 0.65515494 0.70970193\n",
            " 0.66452757 0.69437642 0.69218104 0.63569197 0.65266402 0.63780292\n",
            " 0.7267162  0.71388162 0.74191506 0.75002111 0.77222832 0.83049059\n",
            " 0.8194292  0.8289707  0.8125475  0.78776492 0.75162543 0.78426074\n",
            " 0.77974331 0.81326522 0.8141096  0.79473106 0.83336148 0.85898843\n",
            " 0.83901883 0.85628641 0.87486279 0.88782403 0.90095415 0.92793211\n",
            " 0.948535   0.93333615 0.91746179 0.92544119 0.91771511 0.9483239\n",
            " 0.94064004 0.96635143 0.9563033  0.96491598 0.94432741 0.94280869\n",
            " 0.93932801 0.93603253 0.93344021 0.9316541  0.93065172 0.93034476\n",
            " 0.93060648 0.93129373 0.93226463 0.93339187]\n",
            "12 day output [[0.9345699]]\n",
            "13 day input [0.95512117 0.95989192 0.96635143 0.96246728 0.92295027 0.9598497\n",
            " 0.98792536 0.98594106 0.92531453 0.92172591 0.96474711 0.97572406\n",
            " 0.99159841 0.96972895 0.97614625 0.96795575 1.         0.99016297\n",
            " 0.99050072 0.96538039 0.98488559 0.97086887 0.94026007 0.87748037\n",
            " 0.83483915 0.85413324 0.77336823 0.77269273 0.88014017 0.84007431\n",
            " 0.89673225 0.85527316 0.83884995 0.74233725 0.82327113 0.78143207\n",
            " 0.6665963  0.7921557  0.64118044 0.68614371 0.66001013 0.65203074\n",
            " 0.58642236 0.56586169 0.66089673 0.65515494 0.70970193 0.66452757\n",
            " 0.69437642 0.69218104 0.63569197 0.65266402 0.63780292 0.7267162\n",
            " 0.71388162 0.74191506 0.75002111 0.77222832 0.83049059 0.8194292\n",
            " 0.8289707  0.8125475  0.78776492 0.75162543 0.78426074 0.77974331\n",
            " 0.81326522 0.8141096  0.79473106 0.83336148 0.85898843 0.83901883\n",
            " 0.85628641 0.87486279 0.88782403 0.90095415 0.92793211 0.948535\n",
            " 0.93333615 0.91746179 0.92544119 0.91771511 0.9483239  0.94064004\n",
            " 0.96635143 0.9563033  0.96491598 0.94432741 0.94280869 0.93932801\n",
            " 0.93603253 0.93344021 0.9316541  0.93065172 0.93034476 0.93060648\n",
            " 0.93129373 0.93226463 0.93339187 0.9345699 ]\n",
            "13 day output [[0.9357198]]\n",
            "14 day input [0.95989192 0.96635143 0.96246728 0.92295027 0.9598497  0.98792536\n",
            " 0.98594106 0.92531453 0.92172591 0.96474711 0.97572406 0.99159841\n",
            " 0.96972895 0.97614625 0.96795575 1.         0.99016297 0.99050072\n",
            " 0.96538039 0.98488559 0.97086887 0.94026007 0.87748037 0.83483915\n",
            " 0.85413324 0.77336823 0.77269273 0.88014017 0.84007431 0.89673225\n",
            " 0.85527316 0.83884995 0.74233725 0.82327113 0.78143207 0.6665963\n",
            " 0.7921557  0.64118044 0.68614371 0.66001013 0.65203074 0.58642236\n",
            " 0.56586169 0.66089673 0.65515494 0.70970193 0.66452757 0.69437642\n",
            " 0.69218104 0.63569197 0.65266402 0.63780292 0.7267162  0.71388162\n",
            " 0.74191506 0.75002111 0.77222832 0.83049059 0.8194292  0.8289707\n",
            " 0.8125475  0.78776492 0.75162543 0.78426074 0.77974331 0.81326522\n",
            " 0.8141096  0.79473106 0.83336148 0.85898843 0.83901883 0.85628641\n",
            " 0.87486279 0.88782403 0.90095415 0.92793211 0.948535   0.93333615\n",
            " 0.91746179 0.92544119 0.91771511 0.9483239  0.94064004 0.96635143\n",
            " 0.9563033  0.96491598 0.94432741 0.94280869 0.93932801 0.93603253\n",
            " 0.93344021 0.9316541  0.93065172 0.93034476 0.93060648 0.93129373\n",
            " 0.93226463 0.93339187 0.9345699  0.93571979]\n",
            "14 day output [[0.93678796]]\n",
            "15 day input [0.96635143 0.96246728 0.92295027 0.9598497  0.98792536 0.98594106\n",
            " 0.92531453 0.92172591 0.96474711 0.97572406 0.99159841 0.96972895\n",
            " 0.97614625 0.96795575 1.         0.99016297 0.99050072 0.96538039\n",
            " 0.98488559 0.97086887 0.94026007 0.87748037 0.83483915 0.85413324\n",
            " 0.77336823 0.77269273 0.88014017 0.84007431 0.89673225 0.85527316\n",
            " 0.83884995 0.74233725 0.82327113 0.78143207 0.6665963  0.7921557\n",
            " 0.64118044 0.68614371 0.66001013 0.65203074 0.58642236 0.56586169\n",
            " 0.66089673 0.65515494 0.70970193 0.66452757 0.69437642 0.69218104\n",
            " 0.63569197 0.65266402 0.63780292 0.7267162  0.71388162 0.74191506\n",
            " 0.75002111 0.77222832 0.83049059 0.8194292  0.8289707  0.8125475\n",
            " 0.78776492 0.75162543 0.78426074 0.77974331 0.81326522 0.8141096\n",
            " 0.79473106 0.83336148 0.85898843 0.83901883 0.85628641 0.87486279\n",
            " 0.88782403 0.90095415 0.92793211 0.948535   0.93333615 0.91746179\n",
            " 0.92544119 0.91771511 0.9483239  0.94064004 0.96635143 0.9563033\n",
            " 0.96491598 0.94432741 0.94280869 0.93932801 0.93603253 0.93344021\n",
            " 0.9316541  0.93065172 0.93034476 0.93060648 0.93129373 0.93226463\n",
            " 0.93339187 0.9345699  0.93571979 0.93678796]\n",
            "15 day output [[0.9377449]]\n",
            "16 day input [0.96246728 0.92295027 0.9598497  0.98792536 0.98594106 0.92531453\n",
            " 0.92172591 0.96474711 0.97572406 0.99159841 0.96972895 0.97614625\n",
            " 0.96795575 1.         0.99016297 0.99050072 0.96538039 0.98488559\n",
            " 0.97086887 0.94026007 0.87748037 0.83483915 0.85413324 0.77336823\n",
            " 0.77269273 0.88014017 0.84007431 0.89673225 0.85527316 0.83884995\n",
            " 0.74233725 0.82327113 0.78143207 0.6665963  0.7921557  0.64118044\n",
            " 0.68614371 0.66001013 0.65203074 0.58642236 0.56586169 0.66089673\n",
            " 0.65515494 0.70970193 0.66452757 0.69437642 0.69218104 0.63569197\n",
            " 0.65266402 0.63780292 0.7267162  0.71388162 0.74191506 0.75002111\n",
            " 0.77222832 0.83049059 0.8194292  0.8289707  0.8125475  0.78776492\n",
            " 0.75162543 0.78426074 0.77974331 0.81326522 0.8141096  0.79473106\n",
            " 0.83336148 0.85898843 0.83901883 0.85628641 0.87486279 0.88782403\n",
            " 0.90095415 0.92793211 0.948535   0.93333615 0.91746179 0.92544119\n",
            " 0.91771511 0.9483239  0.94064004 0.96635143 0.9563033  0.96491598\n",
            " 0.94432741 0.94280869 0.93932801 0.93603253 0.93344021 0.9316541\n",
            " 0.93065172 0.93034476 0.93060648 0.93129373 0.93226463 0.93339187\n",
            " 0.9345699  0.93571979 0.93678796 0.93774492]\n",
            "16 day output [[0.93857986]]\n",
            "17 day input [0.92295027 0.9598497  0.98792536 0.98594106 0.92531453 0.92172591\n",
            " 0.96474711 0.97572406 0.99159841 0.96972895 0.97614625 0.96795575\n",
            " 1.         0.99016297 0.99050072 0.96538039 0.98488559 0.97086887\n",
            " 0.94026007 0.87748037 0.83483915 0.85413324 0.77336823 0.77269273\n",
            " 0.88014017 0.84007431 0.89673225 0.85527316 0.83884995 0.74233725\n",
            " 0.82327113 0.78143207 0.6665963  0.7921557  0.64118044 0.68614371\n",
            " 0.66001013 0.65203074 0.58642236 0.56586169 0.66089673 0.65515494\n",
            " 0.70970193 0.66452757 0.69437642 0.69218104 0.63569197 0.65266402\n",
            " 0.63780292 0.7267162  0.71388162 0.74191506 0.75002111 0.77222832\n",
            " 0.83049059 0.8194292  0.8289707  0.8125475  0.78776492 0.75162543\n",
            " 0.78426074 0.77974331 0.81326522 0.8141096  0.79473106 0.83336148\n",
            " 0.85898843 0.83901883 0.85628641 0.87486279 0.88782403 0.90095415\n",
            " 0.92793211 0.948535   0.93333615 0.91746179 0.92544119 0.91771511\n",
            " 0.9483239  0.94064004 0.96635143 0.9563033  0.96491598 0.94432741\n",
            " 0.94280869 0.93932801 0.93603253 0.93344021 0.9316541  0.93065172\n",
            " 0.93034476 0.93060648 0.93129373 0.93226463 0.93339187 0.9345699\n",
            " 0.93571979 0.93678796 0.93774492 0.93857986]\n",
            "17 day output [[0.9392981]]\n",
            "18 day input [0.9598497  0.98792536 0.98594106 0.92531453 0.92172591 0.96474711\n",
            " 0.97572406 0.99159841 0.96972895 0.97614625 0.96795575 1.\n",
            " 0.99016297 0.99050072 0.96538039 0.98488559 0.97086887 0.94026007\n",
            " 0.87748037 0.83483915 0.85413324 0.77336823 0.77269273 0.88014017\n",
            " 0.84007431 0.89673225 0.85527316 0.83884995 0.74233725 0.82327113\n",
            " 0.78143207 0.6665963  0.7921557  0.64118044 0.68614371 0.66001013\n",
            " 0.65203074 0.58642236 0.56586169 0.66089673 0.65515494 0.70970193\n",
            " 0.66452757 0.69437642 0.69218104 0.63569197 0.65266402 0.63780292\n",
            " 0.7267162  0.71388162 0.74191506 0.75002111 0.77222832 0.83049059\n",
            " 0.8194292  0.8289707  0.8125475  0.78776492 0.75162543 0.78426074\n",
            " 0.77974331 0.81326522 0.8141096  0.79473106 0.83336148 0.85898843\n",
            " 0.83901883 0.85628641 0.87486279 0.88782403 0.90095415 0.92793211\n",
            " 0.948535   0.93333615 0.91746179 0.92544119 0.91771511 0.9483239\n",
            " 0.94064004 0.96635143 0.9563033  0.96491598 0.94432741 0.94280869\n",
            " 0.93932801 0.93603253 0.93344021 0.9316541  0.93065172 0.93034476\n",
            " 0.93060648 0.93129373 0.93226463 0.93339187 0.9345699  0.93571979\n",
            " 0.93678796 0.93774492 0.93857986 0.93929809]\n",
            "18 day output [[0.9399137]]\n",
            "19 day input [0.98792536 0.98594106 0.92531453 0.92172591 0.96474711 0.97572406\n",
            " 0.99159841 0.96972895 0.97614625 0.96795575 1.         0.99016297\n",
            " 0.99050072 0.96538039 0.98488559 0.97086887 0.94026007 0.87748037\n",
            " 0.83483915 0.85413324 0.77336823 0.77269273 0.88014017 0.84007431\n",
            " 0.89673225 0.85527316 0.83884995 0.74233725 0.82327113 0.78143207\n",
            " 0.6665963  0.7921557  0.64118044 0.68614371 0.66001013 0.65203074\n",
            " 0.58642236 0.56586169 0.66089673 0.65515494 0.70970193 0.66452757\n",
            " 0.69437642 0.69218104 0.63569197 0.65266402 0.63780292 0.7267162\n",
            " 0.71388162 0.74191506 0.75002111 0.77222832 0.83049059 0.8194292\n",
            " 0.8289707  0.8125475  0.78776492 0.75162543 0.78426074 0.77974331\n",
            " 0.81326522 0.8141096  0.79473106 0.83336148 0.85898843 0.83901883\n",
            " 0.85628641 0.87486279 0.88782403 0.90095415 0.92793211 0.948535\n",
            " 0.93333615 0.91746179 0.92544119 0.91771511 0.9483239  0.94064004\n",
            " 0.96635143 0.9563033  0.96491598 0.94432741 0.94280869 0.93932801\n",
            " 0.93603253 0.93344021 0.9316541  0.93065172 0.93034476 0.93060648\n",
            " 0.93129373 0.93226463 0.93339187 0.9345699  0.93571979 0.93678796\n",
            " 0.93774492 0.93857986 0.93929809 0.93991369]\n",
            "19 day output [[0.9404462]]\n",
            "20 day input [0.98594106 0.92531453 0.92172591 0.96474711 0.97572406 0.99159841\n",
            " 0.96972895 0.97614625 0.96795575 1.         0.99016297 0.99050072\n",
            " 0.96538039 0.98488559 0.97086887 0.94026007 0.87748037 0.83483915\n",
            " 0.85413324 0.77336823 0.77269273 0.88014017 0.84007431 0.89673225\n",
            " 0.85527316 0.83884995 0.74233725 0.82327113 0.78143207 0.6665963\n",
            " 0.7921557  0.64118044 0.68614371 0.66001013 0.65203074 0.58642236\n",
            " 0.56586169 0.66089673 0.65515494 0.70970193 0.66452757 0.69437642\n",
            " 0.69218104 0.63569197 0.65266402 0.63780292 0.7267162  0.71388162\n",
            " 0.74191506 0.75002111 0.77222832 0.83049059 0.8194292  0.8289707\n",
            " 0.8125475  0.78776492 0.75162543 0.78426074 0.77974331 0.81326522\n",
            " 0.8141096  0.79473106 0.83336148 0.85898843 0.83901883 0.85628641\n",
            " 0.87486279 0.88782403 0.90095415 0.92793211 0.948535   0.93333615\n",
            " 0.91746179 0.92544119 0.91771511 0.9483239  0.94064004 0.96635143\n",
            " 0.9563033  0.96491598 0.94432741 0.94280869 0.93932801 0.93603253\n",
            " 0.93344021 0.9316541  0.93065172 0.93034476 0.93060648 0.93129373\n",
            " 0.93226463 0.93339187 0.9345699  0.93571979 0.93678796 0.93774492\n",
            " 0.93857986 0.93929809 0.93991369 0.9404462 ]\n",
            "20 day output [[0.94091827]]\n",
            "21 day input [0.92531453 0.92172591 0.96474711 0.97572406 0.99159841 0.96972895\n",
            " 0.97614625 0.96795575 1.         0.99016297 0.99050072 0.96538039\n",
            " 0.98488559 0.97086887 0.94026007 0.87748037 0.83483915 0.85413324\n",
            " 0.77336823 0.77269273 0.88014017 0.84007431 0.89673225 0.85527316\n",
            " 0.83884995 0.74233725 0.82327113 0.78143207 0.6665963  0.7921557\n",
            " 0.64118044 0.68614371 0.66001013 0.65203074 0.58642236 0.56586169\n",
            " 0.66089673 0.65515494 0.70970193 0.66452757 0.69437642 0.69218104\n",
            " 0.63569197 0.65266402 0.63780292 0.7267162  0.71388162 0.74191506\n",
            " 0.75002111 0.77222832 0.83049059 0.8194292  0.8289707  0.8125475\n",
            " 0.78776492 0.75162543 0.78426074 0.77974331 0.81326522 0.8141096\n",
            " 0.79473106 0.83336148 0.85898843 0.83901883 0.85628641 0.87486279\n",
            " 0.88782403 0.90095415 0.92793211 0.948535   0.93333615 0.91746179\n",
            " 0.92544119 0.91771511 0.9483239  0.94064004 0.96635143 0.9563033\n",
            " 0.96491598 0.94432741 0.94280869 0.93932801 0.93603253 0.93344021\n",
            " 0.9316541  0.93065172 0.93034476 0.93060648 0.93129373 0.93226463\n",
            " 0.93339187 0.9345699  0.93571979 0.93678796 0.93774492 0.93857986\n",
            " 0.93929809 0.93991369 0.9404462  0.94091827]\n",
            "21 day output [[0.94135046]]\n",
            "22 day input [0.92172591 0.96474711 0.97572406 0.99159841 0.96972895 0.97614625\n",
            " 0.96795575 1.         0.99016297 0.99050072 0.96538039 0.98488559\n",
            " 0.97086887 0.94026007 0.87748037 0.83483915 0.85413324 0.77336823\n",
            " 0.77269273 0.88014017 0.84007431 0.89673225 0.85527316 0.83884995\n",
            " 0.74233725 0.82327113 0.78143207 0.6665963  0.7921557  0.64118044\n",
            " 0.68614371 0.66001013 0.65203074 0.58642236 0.56586169 0.66089673\n",
            " 0.65515494 0.70970193 0.66452757 0.69437642 0.69218104 0.63569197\n",
            " 0.65266402 0.63780292 0.7267162  0.71388162 0.74191506 0.75002111\n",
            " 0.77222832 0.83049059 0.8194292  0.8289707  0.8125475  0.78776492\n",
            " 0.75162543 0.78426074 0.77974331 0.81326522 0.8141096  0.79473106\n",
            " 0.83336148 0.85898843 0.83901883 0.85628641 0.87486279 0.88782403\n",
            " 0.90095415 0.92793211 0.948535   0.93333615 0.91746179 0.92544119\n",
            " 0.91771511 0.9483239  0.94064004 0.96635143 0.9563033  0.96491598\n",
            " 0.94432741 0.94280869 0.93932801 0.93603253 0.93344021 0.9316541\n",
            " 0.93065172 0.93034476 0.93060648 0.93129373 0.93226463 0.93339187\n",
            " 0.9345699  0.93571979 0.93678796 0.93774492 0.93857986 0.93929809\n",
            " 0.93991369 0.9404462  0.94091827 0.94135046]\n",
            "22 day output [[0.94176126]]\n",
            "23 day input [0.96474711 0.97572406 0.99159841 0.96972895 0.97614625 0.96795575\n",
            " 1.         0.99016297 0.99050072 0.96538039 0.98488559 0.97086887\n",
            " 0.94026007 0.87748037 0.83483915 0.85413324 0.77336823 0.77269273\n",
            " 0.88014017 0.84007431 0.89673225 0.85527316 0.83884995 0.74233725\n",
            " 0.82327113 0.78143207 0.6665963  0.7921557  0.64118044 0.68614371\n",
            " 0.66001013 0.65203074 0.58642236 0.56586169 0.66089673 0.65515494\n",
            " 0.70970193 0.66452757 0.69437642 0.69218104 0.63569197 0.65266402\n",
            " 0.63780292 0.7267162  0.71388162 0.74191506 0.75002111 0.77222832\n",
            " 0.83049059 0.8194292  0.8289707  0.8125475  0.78776492 0.75162543\n",
            " 0.78426074 0.77974331 0.81326522 0.8141096  0.79473106 0.83336148\n",
            " 0.85898843 0.83901883 0.85628641 0.87486279 0.88782403 0.90095415\n",
            " 0.92793211 0.948535   0.93333615 0.91746179 0.92544119 0.91771511\n",
            " 0.9483239  0.94064004 0.96635143 0.9563033  0.96491598 0.94432741\n",
            " 0.94280869 0.93932801 0.93603253 0.93344021 0.9316541  0.93065172\n",
            " 0.93034476 0.93060648 0.93129373 0.93226463 0.93339187 0.9345699\n",
            " 0.93571979 0.93678796 0.93774492 0.93857986 0.93929809 0.93991369\n",
            " 0.9404462  0.94091827 0.94135046 0.94176126]\n",
            "23 day output [[0.9421654]]\n",
            "24 day input [0.97572406 0.99159841 0.96972895 0.97614625 0.96795575 1.\n",
            " 0.99016297 0.99050072 0.96538039 0.98488559 0.97086887 0.94026007\n",
            " 0.87748037 0.83483915 0.85413324 0.77336823 0.77269273 0.88014017\n",
            " 0.84007431 0.89673225 0.85527316 0.83884995 0.74233725 0.82327113\n",
            " 0.78143207 0.6665963  0.7921557  0.64118044 0.68614371 0.66001013\n",
            " 0.65203074 0.58642236 0.56586169 0.66089673 0.65515494 0.70970193\n",
            " 0.66452757 0.69437642 0.69218104 0.63569197 0.65266402 0.63780292\n",
            " 0.7267162  0.71388162 0.74191506 0.75002111 0.77222832 0.83049059\n",
            " 0.8194292  0.8289707  0.8125475  0.78776492 0.75162543 0.78426074\n",
            " 0.77974331 0.81326522 0.8141096  0.79473106 0.83336148 0.85898843\n",
            " 0.83901883 0.85628641 0.87486279 0.88782403 0.90095415 0.92793211\n",
            " 0.948535   0.93333615 0.91746179 0.92544119 0.91771511 0.9483239\n",
            " 0.94064004 0.96635143 0.9563033  0.96491598 0.94432741 0.94280869\n",
            " 0.93932801 0.93603253 0.93344021 0.9316541  0.93065172 0.93034476\n",
            " 0.93060648 0.93129373 0.93226463 0.93339187 0.9345699  0.93571979\n",
            " 0.93678796 0.93774492 0.93857986 0.93929809 0.93991369 0.9404462\n",
            " 0.94091827 0.94135046 0.94176126 0.94216537]\n",
            "24 day output [[0.94257313]]\n",
            "25 day input [0.99159841 0.96972895 0.97614625 0.96795575 1.         0.99016297\n",
            " 0.99050072 0.96538039 0.98488559 0.97086887 0.94026007 0.87748037\n",
            " 0.83483915 0.85413324 0.77336823 0.77269273 0.88014017 0.84007431\n",
            " 0.89673225 0.85527316 0.83884995 0.74233725 0.82327113 0.78143207\n",
            " 0.6665963  0.7921557  0.64118044 0.68614371 0.66001013 0.65203074\n",
            " 0.58642236 0.56586169 0.66089673 0.65515494 0.70970193 0.66452757\n",
            " 0.69437642 0.69218104 0.63569197 0.65266402 0.63780292 0.7267162\n",
            " 0.71388162 0.74191506 0.75002111 0.77222832 0.83049059 0.8194292\n",
            " 0.8289707  0.8125475  0.78776492 0.75162543 0.78426074 0.77974331\n",
            " 0.81326522 0.8141096  0.79473106 0.83336148 0.85898843 0.83901883\n",
            " 0.85628641 0.87486279 0.88782403 0.90095415 0.92793211 0.948535\n",
            " 0.93333615 0.91746179 0.92544119 0.91771511 0.9483239  0.94064004\n",
            " 0.96635143 0.9563033  0.96491598 0.94432741 0.94280869 0.93932801\n",
            " 0.93603253 0.93344021 0.9316541  0.93065172 0.93034476 0.93060648\n",
            " 0.93129373 0.93226463 0.93339187 0.9345699  0.93571979 0.93678796\n",
            " 0.93774492 0.93857986 0.93929809 0.93991369 0.9404462  0.94091827\n",
            " 0.94135046 0.94176126 0.94216537 0.94257313]\n",
            "25 day output [[0.94299144]]\n",
            "26 day input [0.96972895 0.97614625 0.96795575 1.         0.99016297 0.99050072\n",
            " 0.96538039 0.98488559 0.97086887 0.94026007 0.87748037 0.83483915\n",
            " 0.85413324 0.77336823 0.77269273 0.88014017 0.84007431 0.89673225\n",
            " 0.85527316 0.83884995 0.74233725 0.82327113 0.78143207 0.6665963\n",
            " 0.7921557  0.64118044 0.68614371 0.66001013 0.65203074 0.58642236\n",
            " 0.56586169 0.66089673 0.65515494 0.70970193 0.66452757 0.69437642\n",
            " 0.69218104 0.63569197 0.65266402 0.63780292 0.7267162  0.71388162\n",
            " 0.74191506 0.75002111 0.77222832 0.83049059 0.8194292  0.8289707\n",
            " 0.8125475  0.78776492 0.75162543 0.78426074 0.77974331 0.81326522\n",
            " 0.8141096  0.79473106 0.83336148 0.85898843 0.83901883 0.85628641\n",
            " 0.87486279 0.88782403 0.90095415 0.92793211 0.948535   0.93333615\n",
            " 0.91746179 0.92544119 0.91771511 0.9483239  0.94064004 0.96635143\n",
            " 0.9563033  0.96491598 0.94432741 0.94280869 0.93932801 0.93603253\n",
            " 0.93344021 0.9316541  0.93065172 0.93034476 0.93060648 0.93129373\n",
            " 0.93226463 0.93339187 0.9345699  0.93571979 0.93678796 0.93774492\n",
            " 0.93857986 0.93929809 0.93991369 0.9404462  0.94091827 0.94135046\n",
            " 0.94176126 0.94216537 0.94257313 0.94299144]\n",
            "26 day output [[0.9434233]]\n",
            "27 day input [0.97614625 0.96795575 1.         0.99016297 0.99050072 0.96538039\n",
            " 0.98488559 0.97086887 0.94026007 0.87748037 0.83483915 0.85413324\n",
            " 0.77336823 0.77269273 0.88014017 0.84007431 0.89673225 0.85527316\n",
            " 0.83884995 0.74233725 0.82327113 0.78143207 0.6665963  0.7921557\n",
            " 0.64118044 0.68614371 0.66001013 0.65203074 0.58642236 0.56586169\n",
            " 0.66089673 0.65515494 0.70970193 0.66452757 0.69437642 0.69218104\n",
            " 0.63569197 0.65266402 0.63780292 0.7267162  0.71388162 0.74191506\n",
            " 0.75002111 0.77222832 0.83049059 0.8194292  0.8289707  0.8125475\n",
            " 0.78776492 0.75162543 0.78426074 0.77974331 0.81326522 0.8141096\n",
            " 0.79473106 0.83336148 0.85898843 0.83901883 0.85628641 0.87486279\n",
            " 0.88782403 0.90095415 0.92793211 0.948535   0.93333615 0.91746179\n",
            " 0.92544119 0.91771511 0.9483239  0.94064004 0.96635143 0.9563033\n",
            " 0.96491598 0.94432741 0.94280869 0.93932801 0.93603253 0.93344021\n",
            " 0.9316541  0.93065172 0.93034476 0.93060648 0.93129373 0.93226463\n",
            " 0.93339187 0.9345699  0.93571979 0.93678796 0.93774492 0.93857986\n",
            " 0.93929809 0.93991369 0.9404462  0.94091827 0.94135046 0.94176126\n",
            " 0.94216537 0.94257313 0.94299144 0.94342327]\n",
            "27 day output [[0.94386905]]\n",
            "28 day input [0.96795575 1.         0.99016297 0.99050072 0.96538039 0.98488559\n",
            " 0.97086887 0.94026007 0.87748037 0.83483915 0.85413324 0.77336823\n",
            " 0.77269273 0.88014017 0.84007431 0.89673225 0.85527316 0.83884995\n",
            " 0.74233725 0.82327113 0.78143207 0.6665963  0.7921557  0.64118044\n",
            " 0.68614371 0.66001013 0.65203074 0.58642236 0.56586169 0.66089673\n",
            " 0.65515494 0.70970193 0.66452757 0.69437642 0.69218104 0.63569197\n",
            " 0.65266402 0.63780292 0.7267162  0.71388162 0.74191506 0.75002111\n",
            " 0.77222832 0.83049059 0.8194292  0.8289707  0.8125475  0.78776492\n",
            " 0.75162543 0.78426074 0.77974331 0.81326522 0.8141096  0.79473106\n",
            " 0.83336148 0.85898843 0.83901883 0.85628641 0.87486279 0.88782403\n",
            " 0.90095415 0.92793211 0.948535   0.93333615 0.91746179 0.92544119\n",
            " 0.91771511 0.9483239  0.94064004 0.96635143 0.9563033  0.96491598\n",
            " 0.94432741 0.94280869 0.93932801 0.93603253 0.93344021 0.9316541\n",
            " 0.93065172 0.93034476 0.93060648 0.93129373 0.93226463 0.93339187\n",
            " 0.9345699  0.93571979 0.93678796 0.93774492 0.93857986 0.93929809\n",
            " 0.93991369 0.9404462  0.94091827 0.94135046 0.94176126 0.94216537\n",
            " 0.94257313 0.94299144 0.94342327 0.94386905]\n",
            "28 day output [[0.9443272]]\n",
            "29 day input [1.         0.99016297 0.99050072 0.96538039 0.98488559 0.97086887\n",
            " 0.94026007 0.87748037 0.83483915 0.85413324 0.77336823 0.77269273\n",
            " 0.88014017 0.84007431 0.89673225 0.85527316 0.83884995 0.74233725\n",
            " 0.82327113 0.78143207 0.6665963  0.7921557  0.64118044 0.68614371\n",
            " 0.66001013 0.65203074 0.58642236 0.56586169 0.66089673 0.65515494\n",
            " 0.70970193 0.66452757 0.69437642 0.69218104 0.63569197 0.65266402\n",
            " 0.63780292 0.7267162  0.71388162 0.74191506 0.75002111 0.77222832\n",
            " 0.83049059 0.8194292  0.8289707  0.8125475  0.78776492 0.75162543\n",
            " 0.78426074 0.77974331 0.81326522 0.8141096  0.79473106 0.83336148\n",
            " 0.85898843 0.83901883 0.85628641 0.87486279 0.88782403 0.90095415\n",
            " 0.92793211 0.948535   0.93333615 0.91746179 0.92544119 0.91771511\n",
            " 0.9483239  0.94064004 0.96635143 0.9563033  0.96491598 0.94432741\n",
            " 0.94280869 0.93932801 0.93603253 0.93344021 0.9316541  0.93065172\n",
            " 0.93034476 0.93060648 0.93129373 0.93226463 0.93339187 0.9345699\n",
            " 0.93571979 0.93678796 0.93774492 0.93857986 0.93929809 0.93991369\n",
            " 0.9404462  0.94091827 0.94135046 0.94176126 0.94216537 0.94257313\n",
            " 0.94299144 0.94342327 0.94386905 0.94432718]\n",
            "29 day output [[0.94479495]]\n",
            "[[0.9443274140357971], [0.9428086876869202], [0.9393280148506165], [0.9360325336456299], [0.9334402084350586], [0.9316540956497192], [0.9306517243385315], [0.9303447604179382], [0.930606484413147], [0.9312937259674072], [0.9322646260261536], [0.9333918690681458], [0.9345698952674866], [0.9357197880744934], [0.9367879629135132], [0.9377449154853821], [0.9385798573493958], [0.9392980933189392], [0.9399136900901794], [0.9404461979866028], [0.9409182667732239], [0.9413504600524902], [0.9417612552642822], [0.9421653747558594], [0.9425731301307678], [0.9429914355278015], [0.9434232711791992], [0.9438690543174744], [0.944327175617218], [0.9447949528694153]]\n"
          ],
          "name": "stdout"
        }
      ]
    },
    {
      "cell_type": "code",
      "metadata": {
        "id": "499D39oyZJxm",
        "colab_type": "code",
        "colab": {}
      },
      "source": [
        "day_new=np.arange(1,101)\n",
        "day_pred=np.arange(101,131)"
      ],
      "execution_count": 47,
      "outputs": []
    },
    {
      "cell_type": "code",
      "metadata": {
        "id": "8diszk-3ZPBi",
        "colab_type": "code",
        "colab": {}
      },
      "source": [
        "import matplotlib.pyplot as plt"
      ],
      "execution_count": 48,
      "outputs": []
    },
    {
      "cell_type": "code",
      "metadata": {
        "id": "YLa76DqLZQW3",
        "colab_type": "code",
        "colab": {
          "base_uri": "https://localhost:8080/",
          "height": 34
        },
        "outputId": "9ad163bd-af01-45db-c7bc-d797122d3168"
      },
      "source": [
        "len(df1)"
      ],
      "execution_count": 49,
      "outputs": [
        {
          "output_type": "execute_result",
          "data": {
            "text/plain": [
              "1258"
            ]
          },
          "metadata": {
            "tags": []
          },
          "execution_count": 49
        }
      ]
    },
    {
      "cell_type": "code",
      "metadata": {
        "id": "hxDMq4wcZV8R",
        "colab_type": "code",
        "colab": {
          "base_uri": "https://localhost:8080/",
          "height": 282
        },
        "outputId": "0ee0649e-4356-423b-b965-da89b933f7ef"
      },
      "source": [
        "plt.plot(day_new,scaler.inverse_transform(df1[1158:]))\n",
        "plt.plot(day_pred,scaler.inverse_transform(lst_output))"
      ],
      "execution_count": 50,
      "outputs": [
        {
          "output_type": "execute_result",
          "data": {
            "text/plain": [
              "[<matplotlib.lines.Line2D at 0x7f4bb3743518>]"
            ]
          },
          "metadata": {
            "tags": []
          },
          "execution_count": 50
        },
        {
          "output_type": "display_data",
          "data": {
            "image/png": "[encoded data removed]",
            "text/plain": [
              "<Figure size 432x288 with 1 Axes>"
            ]
          },
          "metadata": {
            "tags": [],
            "needs_background": "light"
          }
        }
      ]
    },
    {
      "cell_type": "code",
      "metadata": {
        "id": "8lFPfEvFZXkT",
        "colab_type": "code",
        "colab": {
          "base_uri": "https://localhost:8080/",
          "height": 282
        },
        "outputId": "ecf6ca63-2fca-44b0-e44f-9047a775ff61"
      },
      "source": [
        "df3=df1.tolist()\n",
        "df3.extend(lst_output)\n",
        "plt.plot(df3[1200:])"
      ],
      "execution_count": 51,
      "outputs": [
        {
          "output_type": "execute_result",
          "data": {
            "text/plain": [
              "[<matplotlib.lines.Line2D at 0x7f4bb3754048>]"
            ]
          },
          "metadata": {
            "tags": []
          },
          "execution_count": 51
        },
        {
          "output_type": "display_data",
          "data": {
            "image/png": "[encoded data removed]",
            "text/plain": [
              "<Figure size 432x288 with 1 Axes>"
            ]
          },
          "metadata": {
            "tags": [],
            "needs_background": "light"
          }
        }
      ]
    },
    {
      "cell_type": "code",
      "metadata": {
        "id": "-sDoDE_HZc6c",
        "colab_type": "code",
        "colab": {}
      },
      "source": [
        "df3=scaler.inverse_transform(df3).tolist()\n"
      ],
      "execution_count": 52,
      "outputs": []
    },
    {
      "cell_type": "code",
      "metadata": {
        "id": "Du8NXXz8ZiQh",
        "colab_type": "code",
        "colab": {
          "base_uri": "https://localhost:8080/",
          "height": 282
        },
        "outputId": "c5ac19bc-77dc-4047-d0fd-f83055c90be3"
      },
      "source": [
        "plt.plot(df3)"
      ],
      "execution_count": 54,
      "outputs": [
        {
          "output_type": "execute_result",
          "data": {
            "text/plain": [
              "[<matplotlib.lines.Line2D at 0x7f4bb3d51e48>]"
            ]
          },
          "metadata": {
            "tags": []
          },
          "execution_count": 54
        },
        {
          "output_type": "display_data",
          "data": {
            "image/png": "[encoded data removed]",
            "text/plain": [
              "<Figure size 432x288 with 1 Axes>"
            ]
          },
          "metadata": {
            "tags": [],
            "needs_background": "light"
          }
        }
      ]
    },
    {
      "cell_type": "markdown",
      "metadata": {
        "id": "duI39AskWG7G",
        "colab_type": "text"
      },
      "source": [
        ""
      ]
    }
  ]
}